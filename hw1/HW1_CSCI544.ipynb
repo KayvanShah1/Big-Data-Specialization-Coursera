{
  "nbformat": 4,
  "nbformat_minor": 0,
  "metadata": {
    "colab": {
      "provenance": [],
      "mount_file_id": "1mKrNDo6A2NvY-ZUDMLszwVjzGKd1fjnb",
      "authorship_tag": "ABX9TyMynvrgYiLmMS6bl5w7FP/N",
      "include_colab_link": true
    },
    "kernelspec": {
      "name": "python3",
      "display_name": "Python 3"
    },
    "language_info": {
      "name": "python"
    }
  },
  "cells": [
    {
      "cell_type": "markdown",
      "metadata": {
        "id": "view-in-github",
        "colab_type": "text"
      },
      "source": [
        "<a href=\"https://colab.research.google.com/github/KayvanShah1/Big-Data-Specialization-Coursera/blob/main/hw1/HW1_CSCI544.ipynb\" target=\"_parent\"><img src=\"https://colab.research.google.com/assets/colab-badge.svg\" alt=\"Open In Colab\"/></a>"
      ]
    },
    {
      "cell_type": "markdown",
      "source": [
        "# Dependencies"
      ],
      "metadata": {
        "id": "5wMrhc8a_EjX"
      }
    },
    {
      "cell_type": "markdown",
      "source": [
        "## Install"
      ],
      "metadata": {
        "id": "ChxDjnRnEJTa"
      }
    },
    {
      "cell_type": "code",
      "source": [
        "!pip install contractions\n",
        "!pip install ipython-autotime"
      ],
      "metadata": {
        "colab": {
          "base_uri": "https://localhost:8080/",
          "height": 0
        },
        "id": "s0OaIevOB4ey",
        "outputId": "4334d5f3-158e-4666-e131-a977bac1c1df"
      },
      "execution_count": 1,
      "outputs": [
        {
          "output_type": "stream",
          "name": "stdout",
          "text": [
            "Requirement already satisfied: contractions in /usr/local/lib/python3.10/dist-packages (0.1.73)\n",
            "Requirement already satisfied: textsearch>=0.0.21 in /usr/local/lib/python3.10/dist-packages (from contractions) (0.0.24)\n",
            "Requirement already satisfied: anyascii in /usr/local/lib/python3.10/dist-packages (from textsearch>=0.0.21->contractions) (0.3.2)\n",
            "Requirement already satisfied: pyahocorasick in /usr/local/lib/python3.10/dist-packages (from textsearch>=0.0.21->contractions) (2.0.0)\n",
            "Requirement already satisfied: ipython-autotime in /usr/local/lib/python3.10/dist-packages (0.3.1)\n",
            "Requirement already satisfied: ipython in /usr/local/lib/python3.10/dist-packages (from ipython-autotime) (7.34.0)\n",
            "Requirement already satisfied: setuptools>=18.5 in /usr/local/lib/python3.10/dist-packages (from ipython->ipython-autotime) (67.7.2)\n",
            "Requirement already satisfied: jedi>=0.16 in /usr/local/lib/python3.10/dist-packages (from ipython->ipython-autotime) (0.19.0)\n",
            "Requirement already satisfied: decorator in /usr/local/lib/python3.10/dist-packages (from ipython->ipython-autotime) (4.4.2)\n",
            "Requirement already satisfied: pickleshare in /usr/local/lib/python3.10/dist-packages (from ipython->ipython-autotime) (0.7.5)\n",
            "Requirement already satisfied: traitlets>=4.2 in /usr/local/lib/python3.10/dist-packages (from ipython->ipython-autotime) (5.7.1)\n",
            "Requirement already satisfied: prompt-toolkit!=3.0.0,!=3.0.1,<3.1.0,>=2.0.0 in /usr/local/lib/python3.10/dist-packages (from ipython->ipython-autotime) (3.0.39)\n",
            "Requirement already satisfied: pygments in /usr/local/lib/python3.10/dist-packages (from ipython->ipython-autotime) (2.16.1)\n",
            "Requirement already satisfied: backcall in /usr/local/lib/python3.10/dist-packages (from ipython->ipython-autotime) (0.2.0)\n",
            "Requirement already satisfied: matplotlib-inline in /usr/local/lib/python3.10/dist-packages (from ipython->ipython-autotime) (0.1.6)\n",
            "Requirement already satisfied: pexpect>4.3 in /usr/local/lib/python3.10/dist-packages (from ipython->ipython-autotime) (4.8.0)\n",
            "Requirement already satisfied: parso<0.9.0,>=0.8.3 in /usr/local/lib/python3.10/dist-packages (from jedi>=0.16->ipython->ipython-autotime) (0.8.3)\n",
            "Requirement already satisfied: ptyprocess>=0.5 in /usr/local/lib/python3.10/dist-packages (from pexpect>4.3->ipython->ipython-autotime) (0.7.0)\n",
            "Requirement already satisfied: wcwidth in /usr/local/lib/python3.10/dist-packages (from prompt-toolkit!=3.0.0,!=3.0.1,<3.1.0,>=2.0.0->ipython->ipython-autotime) (0.2.6)\n"
          ]
        }
      ]
    },
    {
      "cell_type": "markdown",
      "source": [
        "## Imports"
      ],
      "metadata": {
        "id": "B-sgJC0wEGqF"
      }
    },
    {
      "cell_type": "code",
      "execution_count": 2,
      "metadata": {
        "colab": {
          "base_uri": "https://localhost:8080/",
          "height": 0
        },
        "id": "a7kG4_ic-tfe",
        "outputId": "c3828e69-70e0-4265-a730-389b30f6b3db"
      },
      "outputs": [
        {
          "output_type": "stream",
          "name": "stdout",
          "text": [
            "time: 477 µs (started: 2023-09-13 00:07:49 +00:00)\n"
          ]
        },
        {
          "output_type": "stream",
          "name": "stderr",
          "text": [
            "[nltk_data] Downloading package punkt to /root/nltk_data...\n",
            "[nltk_data]   Package punkt is already up-to-date!\n",
            "[nltk_data] Downloading package wordnet to /root/nltk_data...\n",
            "[nltk_data]   Package wordnet is already up-to-date!\n",
            "[nltk_data] Downloading package stopwords to /root/nltk_data...\n",
            "[nltk_data]   Package stopwords is already up-to-date!\n"
          ]
        }
      ],
      "source": [
        "import os\n",
        "import re\n",
        "import unicodedata\n",
        "\n",
        "import warnings\n",
        "warnings.filterwarnings(\"ignore\")\n",
        "\n",
        "import numpy as np\n",
        "import pandas as pd\n",
        "\n",
        "import nltk\n",
        "from nltk.corpus import stopwords\n",
        "from nltk.stem import WordNetLemmatizer\n",
        "from nltk.tokenize import word_tokenize\n",
        "\n",
        "nltk.download('punkt')\n",
        "nltk.download('wordnet')\n",
        "nltk.download('stopwords')\n",
        "\n",
        "import contractions\n",
        "\n",
        "from sklearn.model_selection import train_test_split\n",
        "from sklearn.feature_extraction.text import TfidfVectorizer, CountVectorizer\n",
        "from sklearn.metrics import precision_score, recall_score, f1_score\n",
        "\n",
        "from sklearn.linear_model import Perceptron, LogisticRegression\n",
        "from sklearn.svm import SVC, LinearSVC\n",
        "from sklearn.naive_bayes import MultinomialNB\n",
        "\n",
        "from sklearn.experimental import enable_halving_search_cv\n",
        "from sklearn.model_selection import HalvingGridSearchCV, GridSearchCV\n",
        "\n",
        "%load_ext autotime"
      ]
    },
    {
      "cell_type": "markdown",
      "source": [
        "# Dataset Preparation"
      ],
      "metadata": {
        "id": "m5bunBbN_NWF"
      }
    },
    {
      "cell_type": "code",
      "source": [
        "class Config:\n",
        "    RANDOM_STATE = 56\n",
        "    DATA_PATH = \"amazon_reviews_us_Office_Products_v1_00.tsv.gz\"\n",
        "    TEST_SPLIT = 0.2\n",
        "    N_SAMPLES_EACH_CLASS = 50000\n",
        "    NUM_TFIDF_FEATURES = 5000\n",
        "    NUM_BOW_FEATURES = 5000"
      ],
      "metadata": {
        "colab": {
          "base_uri": "https://localhost:8080/",
          "height": 0
        },
        "id": "wDO0dLPX-3qC",
        "outputId": "bf699b6a-1f06-48f9-fb53-cf32bf2644c8"
      },
      "execution_count": 3,
      "outputs": [
        {
          "output_type": "stream",
          "name": "stdout",
          "text": [
            "time: 678 µs (started: 2023-09-13 00:07:49 +00:00)\n"
          ]
        }
      ]
    },
    {
      "cell_type": "markdown",
      "source": [
        "## Download Data"
      ],
      "metadata": {
        "id": "F0UfsDPP_KNO"
      }
    },
    {
      "cell_type": "code",
      "source": [
        "# %%bash\n",
        "# cd \"/content/drive/MyDrive/Colab Notebooks/CSCI544/HW1\"\n",
        "# curl -o amazon_reviews_us_Office_Products_v1_00.tsv.gz \\\n",
        "# https://web.archive.org/web/20201127142707if_/https://s3.amazonaws.com/amazon-reviews-pds/tsv/amazon_reviews_us_Office_Products_v1_00.tsv.gz"
      ],
      "metadata": {
        "colab": {
          "base_uri": "https://localhost:8080/",
          "height": 0
        },
        "id": "7pOGvlUSCVA-",
        "outputId": "55b606b2-df4c-4d6a-db19-5a709761347a"
      },
      "execution_count": 4,
      "outputs": [
        {
          "output_type": "stream",
          "name": "stdout",
          "text": [
            "time: 364 µs (started: 2023-09-13 00:07:49 +00:00)\n"
          ]
        }
      ]
    },
    {
      "cell_type": "markdown",
      "source": [
        "## Read Data\n",
        "\n",
        "- `sep='\\t'`: Values in the TSV file are separated by tabs\n",
        "\n",
        "- `on_bad_lines=\"skip\"`: Skip any lines in the file that are improperly formatted or contain errors.\n",
        "\n",
        "- `memory_map=True`: Maps the file obj directly to memory for direct access improving performance for large files\n",
        "\n",
        "- `nrows=10`: Limits the number of rows to read from the file to 10.\n",
        "\n",
        "- `usecols=[\"review_headline\",\"review_body\", \"star_rating\"]`: Only select subset of columns to read - faster parsing time and low memory usage."
      ],
      "metadata": {
        "id": "NlOdEAjv_evb"
      }
    },
    {
      "cell_type": "code",
      "source": [
        "os.chdir(\"/content/drive/MyDrive/Colab Notebooks/CSCI544/HW1\")"
      ],
      "metadata": {
        "colab": {
          "base_uri": "https://localhost:8080/",
          "height": 0
        },
        "id": "NWJ4tOY0b2J9",
        "outputId": "43cf3cf5-926a-45d4-a6a5-84a68d77b086"
      },
      "execution_count": 5,
      "outputs": [
        {
          "output_type": "stream",
          "name": "stdout",
          "text": [
            "time: 3.23 ms (started: 2023-09-13 00:07:49 +00:00)\n"
          ]
        }
      ]
    },
    {
      "cell_type": "markdown",
      "source": [
        "Have quick look at dataset by reading 10 rows to get the column names\n",
        "\n"
      ],
      "metadata": {
        "id": "WwwU37tzcNxI"
      }
    },
    {
      "cell_type": "code",
      "source": [
        "df_small = pd.read_csv(\n",
        "    Config.DATA_PATH,\n",
        "    sep='\\t',\n",
        "    on_bad_lines=\"skip\",\n",
        "    memory_map=True,\n",
        "    nrows=10\n",
        ")\n",
        "df_small.columns"
      ],
      "metadata": {
        "colab": {
          "base_uri": "https://localhost:8080/",
          "height": 0
        },
        "id": "n6mZZWGgb5Xy",
        "outputId": "126573a2-bf91-4b6a-c3d8-69181214ee02"
      },
      "execution_count": 6,
      "outputs": [
        {
          "output_type": "execute_result",
          "data": {
            "text/plain": [
              "Index(['marketplace', 'customer_id', 'review_id', 'product_id',\n",
              "       'product_parent', 'product_title', 'product_category', 'star_rating',\n",
              "       'helpful_votes', 'total_votes', 'vine', 'verified_purchase',\n",
              "       'review_headline', 'review_body', 'review_date'],\n",
              "      dtype='object')"
            ]
          },
          "metadata": {},
          "execution_count": 6
        },
        {
          "output_type": "stream",
          "name": "stdout",
          "text": [
            "time: 166 ms (started: 2023-09-13 00:07:49 +00:00)\n"
          ]
        }
      ]
    },
    {
      "cell_type": "code",
      "source": [
        "del df_small"
      ],
      "metadata": {
        "colab": {
          "base_uri": "https://localhost:8080/",
          "height": 0
        },
        "id": "XKQq3q4lgJDZ",
        "outputId": "5a8aa55b-e230-42fc-9a77-0dfccf09921d"
      },
      "execution_count": 7,
      "outputs": [
        {
          "output_type": "stream",
          "name": "stdout",
          "text": [
            "time: 724 µs (started: 2023-09-13 00:07:49 +00:00)\n"
          ]
        }
      ]
    },
    {
      "cell_type": "markdown",
      "source": [
        "Read the entire data"
      ],
      "metadata": {
        "id": "itlPYt2BefKs"
      }
    },
    {
      "cell_type": "code",
      "source": [
        "df = pd.read_csv(\n",
        "    Config.DATA_PATH,\n",
        "    sep='\\t',\n",
        "    usecols=[\"review_headline\",\"review_body\", \"star_rating\"],\n",
        "    on_bad_lines=\"skip\",\n",
        "    memory_map=True,\n",
        ")"
      ],
      "metadata": {
        "colab": {
          "base_uri": "https://localhost:8080/",
          "height": 0
        },
        "id": "VJJ13X48Dhtk",
        "outputId": "d2fa96a4-6bd8-4444-cbe2-37b6b12a37df"
      },
      "execution_count": 8,
      "outputs": [
        {
          "output_type": "stream",
          "name": "stdout",
          "text": [
            "time: 48.2 s (started: 2023-09-13 00:07:49 +00:00)\n"
          ]
        }
      ]
    },
    {
      "cell_type": "code",
      "source": [
        "df.head()"
      ],
      "metadata": {
        "colab": {
          "base_uri": "https://localhost:8080/",
          "height": 224
        },
        "id": "XU42fEGNbtgK",
        "outputId": "49e5d0b5-5a06-4d6b-84a2-2b9ea35b9744"
      },
      "execution_count": 9,
      "outputs": [
        {
          "output_type": "execute_result",
          "data": {
            "text/plain": [
              "  star_rating                                    review_headline  \\\n",
              "0           5                                         Five Stars   \n",
              "1           5  Phffffffft, Phfffffft. Lots of air, and it's C...   \n",
              "2           5                      but I am sure I will like it.   \n",
              "3           1  and the shredder was dirty and the bin was par...   \n",
              "4           4                                         Four Stars   \n",
              "\n",
              "                                         review_body  \n",
              "0                                     Great product.  \n",
              "1  What's to say about this commodity item except...  \n",
              "2    Haven't used yet, but I am sure I will like it.  \n",
              "3  Although this was labeled as &#34;new&#34; the...  \n",
              "4                    Gorgeous colors and easy to use  "
            ],
            "text/html": [
              "\n",
              "  <div id=\"df-ae87f0f7-047c-43f4-b0ba-522c7fd9695f\" class=\"colab-df-container\">\n",
              "    <div>\n",
              "<style scoped>\n",
              "    .dataframe tbody tr th:only-of-type {\n",
              "        vertical-align: middle;\n",
              "    }\n",
              "\n",
              "    .dataframe tbody tr th {\n",
              "        vertical-align: top;\n",
              "    }\n",
              "\n",
              "    .dataframe thead th {\n",
              "        text-align: right;\n",
              "    }\n",
              "</style>\n",
              "<table border=\"1\" class=\"dataframe\">\n",
              "  <thead>\n",
              "    <tr style=\"text-align: right;\">\n",
              "      <th></th>\n",
              "      <th>star_rating</th>\n",
              "      <th>review_headline</th>\n",
              "      <th>review_body</th>\n",
              "    </tr>\n",
              "  </thead>\n",
              "  <tbody>\n",
              "    <tr>\n",
              "      <th>0</th>\n",
              "      <td>5</td>\n",
              "      <td>Five Stars</td>\n",
              "      <td>Great product.</td>\n",
              "    </tr>\n",
              "    <tr>\n",
              "      <th>1</th>\n",
              "      <td>5</td>\n",
              "      <td>Phffffffft, Phfffffft. Lots of air, and it's C...</td>\n",
              "      <td>What's to say about this commodity item except...</td>\n",
              "    </tr>\n",
              "    <tr>\n",
              "      <th>2</th>\n",
              "      <td>5</td>\n",
              "      <td>but I am sure I will like it.</td>\n",
              "      <td>Haven't used yet, but I am sure I will like it.</td>\n",
              "    </tr>\n",
              "    <tr>\n",
              "      <th>3</th>\n",
              "      <td>1</td>\n",
              "      <td>and the shredder was dirty and the bin was par...</td>\n",
              "      <td>Although this was labeled as &amp;#34;new&amp;#34; the...</td>\n",
              "    </tr>\n",
              "    <tr>\n",
              "      <th>4</th>\n",
              "      <td>4</td>\n",
              "      <td>Four Stars</td>\n",
              "      <td>Gorgeous colors and easy to use</td>\n",
              "    </tr>\n",
              "  </tbody>\n",
              "</table>\n",
              "</div>\n",
              "    <div class=\"colab-df-buttons\">\n",
              "\n",
              "  <div class=\"colab-df-container\">\n",
              "    <button class=\"colab-df-convert\" onclick=\"convertToInteractive('df-ae87f0f7-047c-43f4-b0ba-522c7fd9695f')\"\n",
              "            title=\"Convert this dataframe to an interactive table.\"\n",
              "            style=\"display:none;\">\n",
              "\n",
              "  <svg xmlns=\"http://www.w3.org/2000/svg\" height=\"24px\" viewBox=\"0 -960 960 960\">\n",
              "    <path d=\"M120-120v-720h720v720H120Zm60-500h600v-160H180v160Zm220 220h160v-160H400v160Zm0 220h160v-160H400v160ZM180-400h160v-160H180v160Zm440 0h160v-160H620v160ZM180-180h160v-160H180v160Zm440 0h160v-160H620v160Z\"/>\n",
              "  </svg>\n",
              "    </button>\n",
              "\n",
              "  <style>\n",
              "    .colab-df-container {\n",
              "      display:flex;\n",
              "      gap: 12px;\n",
              "    }\n",
              "\n",
              "    .colab-df-convert {\n",
              "      background-color: #E8F0FE;\n",
              "      border: none;\n",
              "      border-radius: 50%;\n",
              "      cursor: pointer;\n",
              "      display: none;\n",
              "      fill: #1967D2;\n",
              "      height: 32px;\n",
              "      padding: 0 0 0 0;\n",
              "      width: 32px;\n",
              "    }\n",
              "\n",
              "    .colab-df-convert:hover {\n",
              "      background-color: #E2EBFA;\n",
              "      box-shadow: 0px 1px 2px rgba(60, 64, 67, 0.3), 0px 1px 3px 1px rgba(60, 64, 67, 0.15);\n",
              "      fill: #174EA6;\n",
              "    }\n",
              "\n",
              "    .colab-df-buttons div {\n",
              "      margin-bottom: 4px;\n",
              "    }\n",
              "\n",
              "    [theme=dark] .colab-df-convert {\n",
              "      background-color: #3B4455;\n",
              "      fill: #D2E3FC;\n",
              "    }\n",
              "\n",
              "    [theme=dark] .colab-df-convert:hover {\n",
              "      background-color: #434B5C;\n",
              "      box-shadow: 0px 1px 3px 1px rgba(0, 0, 0, 0.15);\n",
              "      filter: drop-shadow(0px 1px 2px rgba(0, 0, 0, 0.3));\n",
              "      fill: #FFFFFF;\n",
              "    }\n",
              "  </style>\n",
              "\n",
              "    <script>\n",
              "      const buttonEl =\n",
              "        document.querySelector('#df-ae87f0f7-047c-43f4-b0ba-522c7fd9695f button.colab-df-convert');\n",
              "      buttonEl.style.display =\n",
              "        google.colab.kernel.accessAllowed ? 'block' : 'none';\n",
              "\n",
              "      async function convertToInteractive(key) {\n",
              "        const element = document.querySelector('#df-ae87f0f7-047c-43f4-b0ba-522c7fd9695f');\n",
              "        const dataTable =\n",
              "          await google.colab.kernel.invokeFunction('convertToInteractive',\n",
              "                                                    [key], {});\n",
              "        if (!dataTable) return;\n",
              "\n",
              "        const docLinkHtml = 'Like what you see? Visit the ' +\n",
              "          '<a target=\"_blank\" href=https://colab.research.google.com/notebooks/data_table.ipynb>data table notebook</a>'\n",
              "          + ' to learn more about interactive tables.';\n",
              "        element.innerHTML = '';\n",
              "        dataTable['output_type'] = 'display_data';\n",
              "        await google.colab.output.renderOutput(dataTable, element);\n",
              "        const docLink = document.createElement('div');\n",
              "        docLink.innerHTML = docLinkHtml;\n",
              "        element.appendChild(docLink);\n",
              "      }\n",
              "    </script>\n",
              "  </div>\n",
              "\n",
              "\n",
              "<div id=\"df-d31cf677-4799-4ca5-9e8a-4a89678d206c\">\n",
              "  <button class=\"colab-df-quickchart\" onclick=\"quickchart('df-d31cf677-4799-4ca5-9e8a-4a89678d206c')\"\n",
              "            title=\"Suggest charts.\"\n",
              "            style=\"display:none;\">\n",
              "\n",
              "<svg xmlns=\"http://www.w3.org/2000/svg\" height=\"24px\"viewBox=\"0 0 24 24\"\n",
              "     width=\"24px\">\n",
              "    <g>\n",
              "        <path d=\"M19 3H5c-1.1 0-2 .9-2 2v14c0 1.1.9 2 2 2h14c1.1 0 2-.9 2-2V5c0-1.1-.9-2-2-2zM9 17H7v-7h2v7zm4 0h-2V7h2v10zm4 0h-2v-4h2v4z\"/>\n",
              "    </g>\n",
              "</svg>\n",
              "  </button>\n",
              "\n",
              "<style>\n",
              "  .colab-df-quickchart {\n",
              "      --bg-color: #E8F0FE;\n",
              "      --fill-color: #1967D2;\n",
              "      --hover-bg-color: #E2EBFA;\n",
              "      --hover-fill-color: #174EA6;\n",
              "      --disabled-fill-color: #AAA;\n",
              "      --disabled-bg-color: #DDD;\n",
              "  }\n",
              "\n",
              "  [theme=dark] .colab-df-quickchart {\n",
              "      --bg-color: #3B4455;\n",
              "      --fill-color: #D2E3FC;\n",
              "      --hover-bg-color: #434B5C;\n",
              "      --hover-fill-color: #FFFFFF;\n",
              "      --disabled-bg-color: #3B4455;\n",
              "      --disabled-fill-color: #666;\n",
              "  }\n",
              "\n",
              "  .colab-df-quickchart {\n",
              "    background-color: var(--bg-color);\n",
              "    border: none;\n",
              "    border-radius: 50%;\n",
              "    cursor: pointer;\n",
              "    display: none;\n",
              "    fill: var(--fill-color);\n",
              "    height: 32px;\n",
              "    padding: 0;\n",
              "    width: 32px;\n",
              "  }\n",
              "\n",
              "  .colab-df-quickchart:hover {\n",
              "    background-color: var(--hover-bg-color);\n",
              "    box-shadow: 0 1px 2px rgba(60, 64, 67, 0.3), 0 1px 3px 1px rgba(60, 64, 67, 0.15);\n",
              "    fill: var(--button-hover-fill-color);\n",
              "  }\n",
              "\n",
              "  .colab-df-quickchart-complete:disabled,\n",
              "  .colab-df-quickchart-complete:disabled:hover {\n",
              "    background-color: var(--disabled-bg-color);\n",
              "    fill: var(--disabled-fill-color);\n",
              "    box-shadow: none;\n",
              "  }\n",
              "\n",
              "  .colab-df-spinner {\n",
              "    border: 2px solid var(--fill-color);\n",
              "    border-color: transparent;\n",
              "    border-bottom-color: var(--fill-color);\n",
              "    animation:\n",
              "      spin 1s steps(1) infinite;\n",
              "  }\n",
              "\n",
              "  @keyframes spin {\n",
              "    0% {\n",
              "      border-color: transparent;\n",
              "      border-bottom-color: var(--fill-color);\n",
              "      border-left-color: var(--fill-color);\n",
              "    }\n",
              "    20% {\n",
              "      border-color: transparent;\n",
              "      border-left-color: var(--fill-color);\n",
              "      border-top-color: var(--fill-color);\n",
              "    }\n",
              "    30% {\n",
              "      border-color: transparent;\n",
              "      border-left-color: var(--fill-color);\n",
              "      border-top-color: var(--fill-color);\n",
              "      border-right-color: var(--fill-color);\n",
              "    }\n",
              "    40% {\n",
              "      border-color: transparent;\n",
              "      border-right-color: var(--fill-color);\n",
              "      border-top-color: var(--fill-color);\n",
              "    }\n",
              "    60% {\n",
              "      border-color: transparent;\n",
              "      border-right-color: var(--fill-color);\n",
              "    }\n",
              "    80% {\n",
              "      border-color: transparent;\n",
              "      border-right-color: var(--fill-color);\n",
              "      border-bottom-color: var(--fill-color);\n",
              "    }\n",
              "    90% {\n",
              "      border-color: transparent;\n",
              "      border-bottom-color: var(--fill-color);\n",
              "    }\n",
              "  }\n",
              "</style>\n",
              "\n",
              "  <script>\n",
              "    async function quickchart(key) {\n",
              "      const quickchartButtonEl =\n",
              "        document.querySelector('#' + key + ' button');\n",
              "      quickchartButtonEl.disabled = true;  // To prevent multiple clicks.\n",
              "      quickchartButtonEl.classList.add('colab-df-spinner');\n",
              "      try {\n",
              "        const charts = await google.colab.kernel.invokeFunction(\n",
              "            'suggestCharts', [key], {});\n",
              "      } catch (error) {\n",
              "        console.error('Error during call to suggestCharts:', error);\n",
              "      }\n",
              "      quickchartButtonEl.classList.remove('colab-df-spinner');\n",
              "      quickchartButtonEl.classList.add('colab-df-quickchart-complete');\n",
              "    }\n",
              "    (() => {\n",
              "      let quickchartButtonEl =\n",
              "        document.querySelector('#df-d31cf677-4799-4ca5-9e8a-4a89678d206c button');\n",
              "      quickchartButtonEl.style.display =\n",
              "        google.colab.kernel.accessAllowed ? 'block' : 'none';\n",
              "    })();\n",
              "  </script>\n",
              "</div>\n",
              "    </div>\n",
              "  </div>\n"
            ]
          },
          "metadata": {},
          "execution_count": 9
        },
        {
          "output_type": "stream",
          "name": "stdout",
          "text": [
            "time: 10.9 ms (started: 2023-09-13 00:08:38 +00:00)\n"
          ]
        }
      ]
    },
    {
      "cell_type": "markdown",
      "source": [
        "## Keep Reviews and Ratings"
      ],
      "metadata": {
        "id": "gHifjEGUJERn"
      }
    },
    {
      "cell_type": "code",
      "source": [
        "# Select columns by name\n",
        "df_filtered = df.loc[:,['review_body', 'star_rating']]\n",
        "df_filtered.head()"
      ],
      "metadata": {
        "colab": {
          "base_uri": "https://localhost:8080/",
          "height": 224
        },
        "id": "3j7LA6oBKVAw",
        "outputId": "a4e04f28-c0f1-4119-d38f-f6f4460a8e09"
      },
      "execution_count": 10,
      "outputs": [
        {
          "output_type": "execute_result",
          "data": {
            "text/plain": [
              "                                         review_body star_rating\n",
              "0                                     Great product.           5\n",
              "1  What's to say about this commodity item except...           5\n",
              "2    Haven't used yet, but I am sure I will like it.           5\n",
              "3  Although this was labeled as &#34;new&#34; the...           1\n",
              "4                    Gorgeous colors and easy to use           4"
            ],
            "text/html": [
              "\n",
              "  <div id=\"df-a7ab3ef0-f589-4ca2-b30e-6c0b6f941a68\" class=\"colab-df-container\">\n",
              "    <div>\n",
              "<style scoped>\n",
              "    .dataframe tbody tr th:only-of-type {\n",
              "        vertical-align: middle;\n",
              "    }\n",
              "\n",
              "    .dataframe tbody tr th {\n",
              "        vertical-align: top;\n",
              "    }\n",
              "\n",
              "    .dataframe thead th {\n",
              "        text-align: right;\n",
              "    }\n",
              "</style>\n",
              "<table border=\"1\" class=\"dataframe\">\n",
              "  <thead>\n",
              "    <tr style=\"text-align: right;\">\n",
              "      <th></th>\n",
              "      <th>review_body</th>\n",
              "      <th>star_rating</th>\n",
              "    </tr>\n",
              "  </thead>\n",
              "  <tbody>\n",
              "    <tr>\n",
              "      <th>0</th>\n",
              "      <td>Great product.</td>\n",
              "      <td>5</td>\n",
              "    </tr>\n",
              "    <tr>\n",
              "      <th>1</th>\n",
              "      <td>What's to say about this commodity item except...</td>\n",
              "      <td>5</td>\n",
              "    </tr>\n",
              "    <tr>\n",
              "      <th>2</th>\n",
              "      <td>Haven't used yet, but I am sure I will like it.</td>\n",
              "      <td>5</td>\n",
              "    </tr>\n",
              "    <tr>\n",
              "      <th>3</th>\n",
              "      <td>Although this was labeled as &amp;#34;new&amp;#34; the...</td>\n",
              "      <td>1</td>\n",
              "    </tr>\n",
              "    <tr>\n",
              "      <th>4</th>\n",
              "      <td>Gorgeous colors and easy to use</td>\n",
              "      <td>4</td>\n",
              "    </tr>\n",
              "  </tbody>\n",
              "</table>\n",
              "</div>\n",
              "    <div class=\"colab-df-buttons\">\n",
              "\n",
              "  <div class=\"colab-df-container\">\n",
              "    <button class=\"colab-df-convert\" onclick=\"convertToInteractive('df-a7ab3ef0-f589-4ca2-b30e-6c0b6f941a68')\"\n",
              "            title=\"Convert this dataframe to an interactive table.\"\n",
              "            style=\"display:none;\">\n",
              "\n",
              "  <svg xmlns=\"http://www.w3.org/2000/svg\" height=\"24px\" viewBox=\"0 -960 960 960\">\n",
              "    <path d=\"M120-120v-720h720v720H120Zm60-500h600v-160H180v160Zm220 220h160v-160H400v160Zm0 220h160v-160H400v160ZM180-400h160v-160H180v160Zm440 0h160v-160H620v160ZM180-180h160v-160H180v160Zm440 0h160v-160H620v160Z\"/>\n",
              "  </svg>\n",
              "    </button>\n",
              "\n",
              "  <style>\n",
              "    .colab-df-container {\n",
              "      display:flex;\n",
              "      gap: 12px;\n",
              "    }\n",
              "\n",
              "    .colab-df-convert {\n",
              "      background-color: #E8F0FE;\n",
              "      border: none;\n",
              "      border-radius: 50%;\n",
              "      cursor: pointer;\n",
              "      display: none;\n",
              "      fill: #1967D2;\n",
              "      height: 32px;\n",
              "      padding: 0 0 0 0;\n",
              "      width: 32px;\n",
              "    }\n",
              "\n",
              "    .colab-df-convert:hover {\n",
              "      background-color: #E2EBFA;\n",
              "      box-shadow: 0px 1px 2px rgba(60, 64, 67, 0.3), 0px 1px 3px 1px rgba(60, 64, 67, 0.15);\n",
              "      fill: #174EA6;\n",
              "    }\n",
              "\n",
              "    .colab-df-buttons div {\n",
              "      margin-bottom: 4px;\n",
              "    }\n",
              "\n",
              "    [theme=dark] .colab-df-convert {\n",
              "      background-color: #3B4455;\n",
              "      fill: #D2E3FC;\n",
              "    }\n",
              "\n",
              "    [theme=dark] .colab-df-convert:hover {\n",
              "      background-color: #434B5C;\n",
              "      box-shadow: 0px 1px 3px 1px rgba(0, 0, 0, 0.15);\n",
              "      filter: drop-shadow(0px 1px 2px rgba(0, 0, 0, 0.3));\n",
              "      fill: #FFFFFF;\n",
              "    }\n",
              "  </style>\n",
              "\n",
              "    <script>\n",
              "      const buttonEl =\n",
              "        document.querySelector('#df-a7ab3ef0-f589-4ca2-b30e-6c0b6f941a68 button.colab-df-convert');\n",
              "      buttonEl.style.display =\n",
              "        google.colab.kernel.accessAllowed ? 'block' : 'none';\n",
              "\n",
              "      async function convertToInteractive(key) {\n",
              "        const element = document.querySelector('#df-a7ab3ef0-f589-4ca2-b30e-6c0b6f941a68');\n",
              "        const dataTable =\n",
              "          await google.colab.kernel.invokeFunction('convertToInteractive',\n",
              "                                                    [key], {});\n",
              "        if (!dataTable) return;\n",
              "\n",
              "        const docLinkHtml = 'Like what you see? Visit the ' +\n",
              "          '<a target=\"_blank\" href=https://colab.research.google.com/notebooks/data_table.ipynb>data table notebook</a>'\n",
              "          + ' to learn more about interactive tables.';\n",
              "        element.innerHTML = '';\n",
              "        dataTable['output_type'] = 'display_data';\n",
              "        await google.colab.output.renderOutput(dataTable, element);\n",
              "        const docLink = document.createElement('div');\n",
              "        docLink.innerHTML = docLinkHtml;\n",
              "        element.appendChild(docLink);\n",
              "      }\n",
              "    </script>\n",
              "  </div>\n",
              "\n",
              "\n",
              "<div id=\"df-8908f108-0f6a-4ad9-8c66-fb43937d63b6\">\n",
              "  <button class=\"colab-df-quickchart\" onclick=\"quickchart('df-8908f108-0f6a-4ad9-8c66-fb43937d63b6')\"\n",
              "            title=\"Suggest charts.\"\n",
              "            style=\"display:none;\">\n",
              "\n",
              "<svg xmlns=\"http://www.w3.org/2000/svg\" height=\"24px\"viewBox=\"0 0 24 24\"\n",
              "     width=\"24px\">\n",
              "    <g>\n",
              "        <path d=\"M19 3H5c-1.1 0-2 .9-2 2v14c0 1.1.9 2 2 2h14c1.1 0 2-.9 2-2V5c0-1.1-.9-2-2-2zM9 17H7v-7h2v7zm4 0h-2V7h2v10zm4 0h-2v-4h2v4z\"/>\n",
              "    </g>\n",
              "</svg>\n",
              "  </button>\n",
              "\n",
              "<style>\n",
              "  .colab-df-quickchart {\n",
              "      --bg-color: #E8F0FE;\n",
              "      --fill-color: #1967D2;\n",
              "      --hover-bg-color: #E2EBFA;\n",
              "      --hover-fill-color: #174EA6;\n",
              "      --disabled-fill-color: #AAA;\n",
              "      --disabled-bg-color: #DDD;\n",
              "  }\n",
              "\n",
              "  [theme=dark] .colab-df-quickchart {\n",
              "      --bg-color: #3B4455;\n",
              "      --fill-color: #D2E3FC;\n",
              "      --hover-bg-color: #434B5C;\n",
              "      --hover-fill-color: #FFFFFF;\n",
              "      --disabled-bg-color: #3B4455;\n",
              "      --disabled-fill-color: #666;\n",
              "  }\n",
              "\n",
              "  .colab-df-quickchart {\n",
              "    background-color: var(--bg-color);\n",
              "    border: none;\n",
              "    border-radius: 50%;\n",
              "    cursor: pointer;\n",
              "    display: none;\n",
              "    fill: var(--fill-color);\n",
              "    height: 32px;\n",
              "    padding: 0;\n",
              "    width: 32px;\n",
              "  }\n",
              "\n",
              "  .colab-df-quickchart:hover {\n",
              "    background-color: var(--hover-bg-color);\n",
              "    box-shadow: 0 1px 2px rgba(60, 64, 67, 0.3), 0 1px 3px 1px rgba(60, 64, 67, 0.15);\n",
              "    fill: var(--button-hover-fill-color);\n",
              "  }\n",
              "\n",
              "  .colab-df-quickchart-complete:disabled,\n",
              "  .colab-df-quickchart-complete:disabled:hover {\n",
              "    background-color: var(--disabled-bg-color);\n",
              "    fill: var(--disabled-fill-color);\n",
              "    box-shadow: none;\n",
              "  }\n",
              "\n",
              "  .colab-df-spinner {\n",
              "    border: 2px solid var(--fill-color);\n",
              "    border-color: transparent;\n",
              "    border-bottom-color: var(--fill-color);\n",
              "    animation:\n",
              "      spin 1s steps(1) infinite;\n",
              "  }\n",
              "\n",
              "  @keyframes spin {\n",
              "    0% {\n",
              "      border-color: transparent;\n",
              "      border-bottom-color: var(--fill-color);\n",
              "      border-left-color: var(--fill-color);\n",
              "    }\n",
              "    20% {\n",
              "      border-color: transparent;\n",
              "      border-left-color: var(--fill-color);\n",
              "      border-top-color: var(--fill-color);\n",
              "    }\n",
              "    30% {\n",
              "      border-color: transparent;\n",
              "      border-left-color: var(--fill-color);\n",
              "      border-top-color: var(--fill-color);\n",
              "      border-right-color: var(--fill-color);\n",
              "    }\n",
              "    40% {\n",
              "      border-color: transparent;\n",
              "      border-right-color: var(--fill-color);\n",
              "      border-top-color: var(--fill-color);\n",
              "    }\n",
              "    60% {\n",
              "      border-color: transparent;\n",
              "      border-right-color: var(--fill-color);\n",
              "    }\n",
              "    80% {\n",
              "      border-color: transparent;\n",
              "      border-right-color: var(--fill-color);\n",
              "      border-bottom-color: var(--fill-color);\n",
              "    }\n",
              "    90% {\n",
              "      border-color: transparent;\n",
              "      border-bottom-color: var(--fill-color);\n",
              "    }\n",
              "  }\n",
              "</style>\n",
              "\n",
              "  <script>\n",
              "    async function quickchart(key) {\n",
              "      const quickchartButtonEl =\n",
              "        document.querySelector('#' + key + ' button');\n",
              "      quickchartButtonEl.disabled = true;  // To prevent multiple clicks.\n",
              "      quickchartButtonEl.classList.add('colab-df-spinner');\n",
              "      try {\n",
              "        const charts = await google.colab.kernel.invokeFunction(\n",
              "            'suggestCharts', [key], {});\n",
              "      } catch (error) {\n",
              "        console.error('Error during call to suggestCharts:', error);\n",
              "      }\n",
              "      quickchartButtonEl.classList.remove('colab-df-spinner');\n",
              "      quickchartButtonEl.classList.add('colab-df-quickchart-complete');\n",
              "    }\n",
              "    (() => {\n",
              "      let quickchartButtonEl =\n",
              "        document.querySelector('#df-8908f108-0f6a-4ad9-8c66-fb43937d63b6 button');\n",
              "      quickchartButtonEl.style.display =\n",
              "        google.colab.kernel.accessAllowed ? 'block' : 'none';\n",
              "    })();\n",
              "  </script>\n",
              "</div>\n",
              "    </div>\n",
              "  </div>\n"
            ]
          },
          "metadata": {},
          "execution_count": 10
        },
        {
          "output_type": "stream",
          "name": "stdout",
          "text": [
            "time: 106 ms (started: 2023-09-13 00:08:38 +00:00)\n"
          ]
        }
      ]
    },
    {
      "cell_type": "markdown",
      "source": [
        "## Create Binary Classification Problem\n",
        "We form two classes and select 50000 reviews randomly from each class.\n",
        "\n",
        "### Handling the inconsistencies `star_rating` columns:\n",
        "- **Converting 'star_rating' to Numeric:**\n",
        "   - The 'star_rating' column likely contains numerical values, but they might be stored as strings or in a format which can cause issues for further analysis or modeling.\n",
        "   - Convert the column to numeric, and replace non-convertible with NaN.\n",
        "\n",
        "2. **Handling Missing Values:**\n",
        "   - After converting to numeric, there might be rows with missing or non-convertible values, which are now represented as NaN.\n",
        "   - Drop the rows with NaN values\n",
        "\n",
        "3. **Classification of Ratings:**\n",
        "   - The task requires binary classification based on the ratings, where ratings 1, 2, and 3 form one class (class 1), and ratings 4 and 5 form another class (class 2).\n",
        "   - We apply the mapping as per requirements."
      ],
      "metadata": {
        "id": "xaBLKkAjJKze"
      }
    },
    {
      "cell_type": "code",
      "source": [
        "# Check incosistencies in star_rating column\n",
        "df['star_rating'].unique()"
      ],
      "metadata": {
        "colab": {
          "base_uri": "https://localhost:8080/",
          "height": 0
        },
        "id": "spnSLua_Ny19",
        "outputId": "4daa2f7e-1df0-49af-f464-85969446aaeb"
      },
      "execution_count": 11,
      "outputs": [
        {
          "output_type": "execute_result",
          "data": {
            "text/plain": [
              "array([5, 1, 4, 2, 3, '5', '1', '3', '4', '2', '2015-06-05', '2015-02-11',\n",
              "       nan, '2014-02-14'], dtype=object)"
            ]
          },
          "metadata": {},
          "execution_count": 11
        },
        {
          "output_type": "stream",
          "name": "stdout",
          "text": [
            "time: 103 ms (started: 2023-09-13 00:08:38 +00:00)\n"
          ]
        }
      ]
    },
    {
      "cell_type": "code",
      "source": [
        "# Convert the 'star_rating' column to numeric, coerce errors to NaN\n",
        "df_filtered['star_rating'] = pd.to_numeric(df['star_rating'], errors='coerce')\n",
        "\n",
        "# Drop NaN values from `star_rating`\n",
        "df_filtered.dropna(subset=[\"star_rating\"], inplace=True)\n",
        "\n",
        "# Classify ratings as 1, 2, or 3 into class 1, and ratings 4 and 5 into class 2\n",
        "df_filtered['sentiment'] = df_filtered['star_rating'].apply(\n",
        "    lambda x: 1 if x <= 3 else 2\n",
        ")\n",
        "\n",
        "print(\"Shape of unfiltered dataframe:\", df.shape)\n",
        "print(\"Shape of filtered dataframe:\", df_filtered.shape)\n",
        "\n",
        "df_filtered.head()"
      ],
      "metadata": {
        "colab": {
          "base_uri": "https://localhost:8080/",
          "height": 258
        },
        "id": "bk_EDOlAbbVi",
        "outputId": "94e936c3-92f3-4665-f506-7d9887c49c34"
      },
      "execution_count": 12,
      "outputs": [
        {
          "output_type": "stream",
          "name": "stdout",
          "text": [
            "Shape of unfiltered dataframe: (2640352, 3)\n",
            "Shape of filtered dataframe: (2640335, 3)\n"
          ]
        },
        {
          "output_type": "execute_result",
          "data": {
            "text/plain": [
              "                                         review_body  star_rating  sentiment\n",
              "0                                     Great product.          5.0          2\n",
              "1  What's to say about this commodity item except...          5.0          2\n",
              "2    Haven't used yet, but I am sure I will like it.          5.0          2\n",
              "3  Although this was labeled as &#34;new&#34; the...          1.0          1\n",
              "4                    Gorgeous colors and easy to use          4.0          2"
            ],
            "text/html": [
              "\n",
              "  <div id=\"df-f0758d58-35ea-4a8b-9652-dd911b7f03ec\" class=\"colab-df-container\">\n",
              "    <div>\n",
              "<style scoped>\n",
              "    .dataframe tbody tr th:only-of-type {\n",
              "        vertical-align: middle;\n",
              "    }\n",
              "\n",
              "    .dataframe tbody tr th {\n",
              "        vertical-align: top;\n",
              "    }\n",
              "\n",
              "    .dataframe thead th {\n",
              "        text-align: right;\n",
              "    }\n",
              "</style>\n",
              "<table border=\"1\" class=\"dataframe\">\n",
              "  <thead>\n",
              "    <tr style=\"text-align: right;\">\n",
              "      <th></th>\n",
              "      <th>review_body</th>\n",
              "      <th>star_rating</th>\n",
              "      <th>sentiment</th>\n",
              "    </tr>\n",
              "  </thead>\n",
              "  <tbody>\n",
              "    <tr>\n",
              "      <th>0</th>\n",
              "      <td>Great product.</td>\n",
              "      <td>5.0</td>\n",
              "      <td>2</td>\n",
              "    </tr>\n",
              "    <tr>\n",
              "      <th>1</th>\n",
              "      <td>What's to say about this commodity item except...</td>\n",
              "      <td>5.0</td>\n",
              "      <td>2</td>\n",
              "    </tr>\n",
              "    <tr>\n",
              "      <th>2</th>\n",
              "      <td>Haven't used yet, but I am sure I will like it.</td>\n",
              "      <td>5.0</td>\n",
              "      <td>2</td>\n",
              "    </tr>\n",
              "    <tr>\n",
              "      <th>3</th>\n",
              "      <td>Although this was labeled as &amp;#34;new&amp;#34; the...</td>\n",
              "      <td>1.0</td>\n",
              "      <td>1</td>\n",
              "    </tr>\n",
              "    <tr>\n",
              "      <th>4</th>\n",
              "      <td>Gorgeous colors and easy to use</td>\n",
              "      <td>4.0</td>\n",
              "      <td>2</td>\n",
              "    </tr>\n",
              "  </tbody>\n",
              "</table>\n",
              "</div>\n",
              "    <div class=\"colab-df-buttons\">\n",
              "\n",
              "  <div class=\"colab-df-container\">\n",
              "    <button class=\"colab-df-convert\" onclick=\"convertToInteractive('df-f0758d58-35ea-4a8b-9652-dd911b7f03ec')\"\n",
              "            title=\"Convert this dataframe to an interactive table.\"\n",
              "            style=\"display:none;\">\n",
              "\n",
              "  <svg xmlns=\"http://www.w3.org/2000/svg\" height=\"24px\" viewBox=\"0 -960 960 960\">\n",
              "    <path d=\"M120-120v-720h720v720H120Zm60-500h600v-160H180v160Zm220 220h160v-160H400v160Zm0 220h160v-160H400v160ZM180-400h160v-160H180v160Zm440 0h160v-160H620v160ZM180-180h160v-160H180v160Zm440 0h160v-160H620v160Z\"/>\n",
              "  </svg>\n",
              "    </button>\n",
              "\n",
              "  <style>\n",
              "    .colab-df-container {\n",
              "      display:flex;\n",
              "      gap: 12px;\n",
              "    }\n",
              "\n",
              "    .colab-df-convert {\n",
              "      background-color: #E8F0FE;\n",
              "      border: none;\n",
              "      border-radius: 50%;\n",
              "      cursor: pointer;\n",
              "      display: none;\n",
              "      fill: #1967D2;\n",
              "      height: 32px;\n",
              "      padding: 0 0 0 0;\n",
              "      width: 32px;\n",
              "    }\n",
              "\n",
              "    .colab-df-convert:hover {\n",
              "      background-color: #E2EBFA;\n",
              "      box-shadow: 0px 1px 2px rgba(60, 64, 67, 0.3), 0px 1px 3px 1px rgba(60, 64, 67, 0.15);\n",
              "      fill: #174EA6;\n",
              "    }\n",
              "\n",
              "    .colab-df-buttons div {\n",
              "      margin-bottom: 4px;\n",
              "    }\n",
              "\n",
              "    [theme=dark] .colab-df-convert {\n",
              "      background-color: #3B4455;\n",
              "      fill: #D2E3FC;\n",
              "    }\n",
              "\n",
              "    [theme=dark] .colab-df-convert:hover {\n",
              "      background-color: #434B5C;\n",
              "      box-shadow: 0px 1px 3px 1px rgba(0, 0, 0, 0.15);\n",
              "      filter: drop-shadow(0px 1px 2px rgba(0, 0, 0, 0.3));\n",
              "      fill: #FFFFFF;\n",
              "    }\n",
              "  </style>\n",
              "\n",
              "    <script>\n",
              "      const buttonEl =\n",
              "        document.querySelector('#df-f0758d58-35ea-4a8b-9652-dd911b7f03ec button.colab-df-convert');\n",
              "      buttonEl.style.display =\n",
              "        google.colab.kernel.accessAllowed ? 'block' : 'none';\n",
              "\n",
              "      async function convertToInteractive(key) {\n",
              "        const element = document.querySelector('#df-f0758d58-35ea-4a8b-9652-dd911b7f03ec');\n",
              "        const dataTable =\n",
              "          await google.colab.kernel.invokeFunction('convertToInteractive',\n",
              "                                                    [key], {});\n",
              "        if (!dataTable) return;\n",
              "\n",
              "        const docLinkHtml = 'Like what you see? Visit the ' +\n",
              "          '<a target=\"_blank\" href=https://colab.research.google.com/notebooks/data_table.ipynb>data table notebook</a>'\n",
              "          + ' to learn more about interactive tables.';\n",
              "        element.innerHTML = '';\n",
              "        dataTable['output_type'] = 'display_data';\n",
              "        await google.colab.output.renderOutput(dataTable, element);\n",
              "        const docLink = document.createElement('div');\n",
              "        docLink.innerHTML = docLinkHtml;\n",
              "        element.appendChild(docLink);\n",
              "      }\n",
              "    </script>\n",
              "  </div>\n",
              "\n",
              "\n",
              "<div id=\"df-96ef8b29-ef9b-40cb-bf75-7498bcc75c38\">\n",
              "  <button class=\"colab-df-quickchart\" onclick=\"quickchart('df-96ef8b29-ef9b-40cb-bf75-7498bcc75c38')\"\n",
              "            title=\"Suggest charts.\"\n",
              "            style=\"display:none;\">\n",
              "\n",
              "<svg xmlns=\"http://www.w3.org/2000/svg\" height=\"24px\"viewBox=\"0 0 24 24\"\n",
              "     width=\"24px\">\n",
              "    <g>\n",
              "        <path d=\"M19 3H5c-1.1 0-2 .9-2 2v14c0 1.1.9 2 2 2h14c1.1 0 2-.9 2-2V5c0-1.1-.9-2-2-2zM9 17H7v-7h2v7zm4 0h-2V7h2v10zm4 0h-2v-4h2v4z\"/>\n",
              "    </g>\n",
              "</svg>\n",
              "  </button>\n",
              "\n",
              "<style>\n",
              "  .colab-df-quickchart {\n",
              "      --bg-color: #E8F0FE;\n",
              "      --fill-color: #1967D2;\n",
              "      --hover-bg-color: #E2EBFA;\n",
              "      --hover-fill-color: #174EA6;\n",
              "      --disabled-fill-color: #AAA;\n",
              "      --disabled-bg-color: #DDD;\n",
              "  }\n",
              "\n",
              "  [theme=dark] .colab-df-quickchart {\n",
              "      --bg-color: #3B4455;\n",
              "      --fill-color: #D2E3FC;\n",
              "      --hover-bg-color: #434B5C;\n",
              "      --hover-fill-color: #FFFFFF;\n",
              "      --disabled-bg-color: #3B4455;\n",
              "      --disabled-fill-color: #666;\n",
              "  }\n",
              "\n",
              "  .colab-df-quickchart {\n",
              "    background-color: var(--bg-color);\n",
              "    border: none;\n",
              "    border-radius: 50%;\n",
              "    cursor: pointer;\n",
              "    display: none;\n",
              "    fill: var(--fill-color);\n",
              "    height: 32px;\n",
              "    padding: 0;\n",
              "    width: 32px;\n",
              "  }\n",
              "\n",
              "  .colab-df-quickchart:hover {\n",
              "    background-color: var(--hover-bg-color);\n",
              "    box-shadow: 0 1px 2px rgba(60, 64, 67, 0.3), 0 1px 3px 1px rgba(60, 64, 67, 0.15);\n",
              "    fill: var(--button-hover-fill-color);\n",
              "  }\n",
              "\n",
              "  .colab-df-quickchart-complete:disabled,\n",
              "  .colab-df-quickchart-complete:disabled:hover {\n",
              "    background-color: var(--disabled-bg-color);\n",
              "    fill: var(--disabled-fill-color);\n",
              "    box-shadow: none;\n",
              "  }\n",
              "\n",
              "  .colab-df-spinner {\n",
              "    border: 2px solid var(--fill-color);\n",
              "    border-color: transparent;\n",
              "    border-bottom-color: var(--fill-color);\n",
              "    animation:\n",
              "      spin 1s steps(1) infinite;\n",
              "  }\n",
              "\n",
              "  @keyframes spin {\n",
              "    0% {\n",
              "      border-color: transparent;\n",
              "      border-bottom-color: var(--fill-color);\n",
              "      border-left-color: var(--fill-color);\n",
              "    }\n",
              "    20% {\n",
              "      border-color: transparent;\n",
              "      border-left-color: var(--fill-color);\n",
              "      border-top-color: var(--fill-color);\n",
              "    }\n",
              "    30% {\n",
              "      border-color: transparent;\n",
              "      border-left-color: var(--fill-color);\n",
              "      border-top-color: var(--fill-color);\n",
              "      border-right-color: var(--fill-color);\n",
              "    }\n",
              "    40% {\n",
              "      border-color: transparent;\n",
              "      border-right-color: var(--fill-color);\n",
              "      border-top-color: var(--fill-color);\n",
              "    }\n",
              "    60% {\n",
              "      border-color: transparent;\n",
              "      border-right-color: var(--fill-color);\n",
              "    }\n",
              "    80% {\n",
              "      border-color: transparent;\n",
              "      border-right-color: var(--fill-color);\n",
              "      border-bottom-color: var(--fill-color);\n",
              "    }\n",
              "    90% {\n",
              "      border-color: transparent;\n",
              "      border-bottom-color: var(--fill-color);\n",
              "    }\n",
              "  }\n",
              "</style>\n",
              "\n",
              "  <script>\n",
              "    async function quickchart(key) {\n",
              "      const quickchartButtonEl =\n",
              "        document.querySelector('#' + key + ' button');\n",
              "      quickchartButtonEl.disabled = true;  // To prevent multiple clicks.\n",
              "      quickchartButtonEl.classList.add('colab-df-spinner');\n",
              "      try {\n",
              "        const charts = await google.colab.kernel.invokeFunction(\n",
              "            'suggestCharts', [key], {});\n",
              "      } catch (error) {\n",
              "        console.error('Error during call to suggestCharts:', error);\n",
              "      }\n",
              "      quickchartButtonEl.classList.remove('colab-df-spinner');\n",
              "      quickchartButtonEl.classList.add('colab-df-quickchart-complete');\n",
              "    }\n",
              "    (() => {\n",
              "      let quickchartButtonEl =\n",
              "        document.querySelector('#df-96ef8b29-ef9b-40cb-bf75-7498bcc75c38 button');\n",
              "      quickchartButtonEl.style.display =\n",
              "        google.colab.kernel.accessAllowed ? 'block' : 'none';\n",
              "    })();\n",
              "  </script>\n",
              "</div>\n",
              "    </div>\n",
              "  </div>\n"
            ]
          },
          "metadata": {},
          "execution_count": 12
        },
        {
          "output_type": "stream",
          "name": "stdout",
          "text": [
            "time: 3.65 s (started: 2023-09-13 00:08:38 +00:00)\n"
          ]
        }
      ]
    },
    {
      "cell_type": "markdown",
      "source": [
        "### Sampling data\n",
        "- Find indices of each class\n",
        "- Choose random 50000 values using `sample` function for each class\n",
        "- Resample for shuffling"
      ],
      "metadata": {
        "id": "7XHIYGmjqabx"
      }
    },
    {
      "cell_type": "code",
      "source": [
        "# Create a new DataFrame with sampled data\n",
        "balanced_df = pd.concat(\n",
        "    [\n",
        "        df_filtered.query('sentiment==1').sample(\n",
        "            n=Config.N_SAMPLES_EACH_CLASS, random_state=Config.RANDOM_STATE\n",
        "        ),\n",
        "        df_filtered.query('sentiment==2').sample(\n",
        "            n=Config.N_SAMPLES_EACH_CLASS, random_state=Config.RANDOM_STATE\n",
        "        )\n",
        "    ],\n",
        "    ignore_index=True\n",
        ").sample(frac=1, random_state=Config.RANDOM_STATE)\n",
        "\n",
        "balanced_df.drop(columns=[\"star_rating\"], inplace=True)\n",
        "\n",
        "# Handling non-string values in Reviews\n",
        "balanced_df[\"review_body\"] = balanced_df[\"review_body\"].astype(str)\n",
        "\n",
        "balanced_df.head()"
      ],
      "metadata": {
        "colab": {
          "base_uri": "https://localhost:8080/",
          "height": 224
        },
        "id": "qf6s4YSrkh0f",
        "outputId": "e5f60fc6-3bda-471c-a71d-5eec5b5cc19c"
      },
      "execution_count": 13,
      "outputs": [
        {
          "output_type": "execute_result",
          "data": {
            "text/plain": [
              "                                             review_body  sentiment\n",
              "7527   Agree with other posters in that these worked ...          1\n",
              "84247  These are a little smaller than the ones I had...          2\n",
              "79106  Well made, plenty of card pockets, and I like ...          2\n",
              "37339  In the same year, I bought a new HP laptop and...          1\n",
              "33018  I bought this on Jan 2011 as a gift. I turned ...          1"
            ],
            "text/html": [
              "\n",
              "  <div id=\"df-3c1ef55b-7c1c-4005-a3d5-b8743179e650\" class=\"colab-df-container\">\n",
              "    <div>\n",
              "<style scoped>\n",
              "    .dataframe tbody tr th:only-of-type {\n",
              "        vertical-align: middle;\n",
              "    }\n",
              "\n",
              "    .dataframe tbody tr th {\n",
              "        vertical-align: top;\n",
              "    }\n",
              "\n",
              "    .dataframe thead th {\n",
              "        text-align: right;\n",
              "    }\n",
              "</style>\n",
              "<table border=\"1\" class=\"dataframe\">\n",
              "  <thead>\n",
              "    <tr style=\"text-align: right;\">\n",
              "      <th></th>\n",
              "      <th>review_body</th>\n",
              "      <th>sentiment</th>\n",
              "    </tr>\n",
              "  </thead>\n",
              "  <tbody>\n",
              "    <tr>\n",
              "      <th>7527</th>\n",
              "      <td>Agree with other posters in that these worked ...</td>\n",
              "      <td>1</td>\n",
              "    </tr>\n",
              "    <tr>\n",
              "      <th>84247</th>\n",
              "      <td>These are a little smaller than the ones I had...</td>\n",
              "      <td>2</td>\n",
              "    </tr>\n",
              "    <tr>\n",
              "      <th>79106</th>\n",
              "      <td>Well made, plenty of card pockets, and I like ...</td>\n",
              "      <td>2</td>\n",
              "    </tr>\n",
              "    <tr>\n",
              "      <th>37339</th>\n",
              "      <td>In the same year, I bought a new HP laptop and...</td>\n",
              "      <td>1</td>\n",
              "    </tr>\n",
              "    <tr>\n",
              "      <th>33018</th>\n",
              "      <td>I bought this on Jan 2011 as a gift. I turned ...</td>\n",
              "      <td>1</td>\n",
              "    </tr>\n",
              "  </tbody>\n",
              "</table>\n",
              "</div>\n",
              "    <div class=\"colab-df-buttons\">\n",
              "\n",
              "  <div class=\"colab-df-container\">\n",
              "    <button class=\"colab-df-convert\" onclick=\"convertToInteractive('df-3c1ef55b-7c1c-4005-a3d5-b8743179e650')\"\n",
              "            title=\"Convert this dataframe to an interactive table.\"\n",
              "            style=\"display:none;\">\n",
              "\n",
              "  <svg xmlns=\"http://www.w3.org/2000/svg\" height=\"24px\" viewBox=\"0 -960 960 960\">\n",
              "    <path d=\"M120-120v-720h720v720H120Zm60-500h600v-160H180v160Zm220 220h160v-160H400v160Zm0 220h160v-160H400v160ZM180-400h160v-160H180v160Zm440 0h160v-160H620v160ZM180-180h160v-160H180v160Zm440 0h160v-160H620v160Z\"/>\n",
              "  </svg>\n",
              "    </button>\n",
              "\n",
              "  <style>\n",
              "    .colab-df-container {\n",
              "      display:flex;\n",
              "      gap: 12px;\n",
              "    }\n",
              "\n",
              "    .colab-df-convert {\n",
              "      background-color: #E8F0FE;\n",
              "      border: none;\n",
              "      border-radius: 50%;\n",
              "      cursor: pointer;\n",
              "      display: none;\n",
              "      fill: #1967D2;\n",
              "      height: 32px;\n",
              "      padding: 0 0 0 0;\n",
              "      width: 32px;\n",
              "    }\n",
              "\n",
              "    .colab-df-convert:hover {\n",
              "      background-color: #E2EBFA;\n",
              "      box-shadow: 0px 1px 2px rgba(60, 64, 67, 0.3), 0px 1px 3px 1px rgba(60, 64, 67, 0.15);\n",
              "      fill: #174EA6;\n",
              "    }\n",
              "\n",
              "    .colab-df-buttons div {\n",
              "      margin-bottom: 4px;\n",
              "    }\n",
              "\n",
              "    [theme=dark] .colab-df-convert {\n",
              "      background-color: #3B4455;\n",
              "      fill: #D2E3FC;\n",
              "    }\n",
              "\n",
              "    [theme=dark] .colab-df-convert:hover {\n",
              "      background-color: #434B5C;\n",
              "      box-shadow: 0px 1px 3px 1px rgba(0, 0, 0, 0.15);\n",
              "      filter: drop-shadow(0px 1px 2px rgba(0, 0, 0, 0.3));\n",
              "      fill: #FFFFFF;\n",
              "    }\n",
              "  </style>\n",
              "\n",
              "    <script>\n",
              "      const buttonEl =\n",
              "        document.querySelector('#df-3c1ef55b-7c1c-4005-a3d5-b8743179e650 button.colab-df-convert');\n",
              "      buttonEl.style.display =\n",
              "        google.colab.kernel.accessAllowed ? 'block' : 'none';\n",
              "\n",
              "      async function convertToInteractive(key) {\n",
              "        const element = document.querySelector('#df-3c1ef55b-7c1c-4005-a3d5-b8743179e650');\n",
              "        const dataTable =\n",
              "          await google.colab.kernel.invokeFunction('convertToInteractive',\n",
              "                                                    [key], {});\n",
              "        if (!dataTable) return;\n",
              "\n",
              "        const docLinkHtml = 'Like what you see? Visit the ' +\n",
              "          '<a target=\"_blank\" href=https://colab.research.google.com/notebooks/data_table.ipynb>data table notebook</a>'\n",
              "          + ' to learn more about interactive tables.';\n",
              "        element.innerHTML = '';\n",
              "        dataTable['output_type'] = 'display_data';\n",
              "        await google.colab.output.renderOutput(dataTable, element);\n",
              "        const docLink = document.createElement('div');\n",
              "        docLink.innerHTML = docLinkHtml;\n",
              "        element.appendChild(docLink);\n",
              "      }\n",
              "    </script>\n",
              "  </div>\n",
              "\n",
              "\n",
              "<div id=\"df-2683a6c0-193c-4690-857a-438000bbebc1\">\n",
              "  <button class=\"colab-df-quickchart\" onclick=\"quickchart('df-2683a6c0-193c-4690-857a-438000bbebc1')\"\n",
              "            title=\"Suggest charts.\"\n",
              "            style=\"display:none;\">\n",
              "\n",
              "<svg xmlns=\"http://www.w3.org/2000/svg\" height=\"24px\"viewBox=\"0 0 24 24\"\n",
              "     width=\"24px\">\n",
              "    <g>\n",
              "        <path d=\"M19 3H5c-1.1 0-2 .9-2 2v14c0 1.1.9 2 2 2h14c1.1 0 2-.9 2-2V5c0-1.1-.9-2-2-2zM9 17H7v-7h2v7zm4 0h-2V7h2v10zm4 0h-2v-4h2v4z\"/>\n",
              "    </g>\n",
              "</svg>\n",
              "  </button>\n",
              "\n",
              "<style>\n",
              "  .colab-df-quickchart {\n",
              "      --bg-color: #E8F0FE;\n",
              "      --fill-color: #1967D2;\n",
              "      --hover-bg-color: #E2EBFA;\n",
              "      --hover-fill-color: #174EA6;\n",
              "      --disabled-fill-color: #AAA;\n",
              "      --disabled-bg-color: #DDD;\n",
              "  }\n",
              "\n",
              "  [theme=dark] .colab-df-quickchart {\n",
              "      --bg-color: #3B4455;\n",
              "      --fill-color: #D2E3FC;\n",
              "      --hover-bg-color: #434B5C;\n",
              "      --hover-fill-color: #FFFFFF;\n",
              "      --disabled-bg-color: #3B4455;\n",
              "      --disabled-fill-color: #666;\n",
              "  }\n",
              "\n",
              "  .colab-df-quickchart {\n",
              "    background-color: var(--bg-color);\n",
              "    border: none;\n",
              "    border-radius: 50%;\n",
              "    cursor: pointer;\n",
              "    display: none;\n",
              "    fill: var(--fill-color);\n",
              "    height: 32px;\n",
              "    padding: 0;\n",
              "    width: 32px;\n",
              "  }\n",
              "\n",
              "  .colab-df-quickchart:hover {\n",
              "    background-color: var(--hover-bg-color);\n",
              "    box-shadow: 0 1px 2px rgba(60, 64, 67, 0.3), 0 1px 3px 1px rgba(60, 64, 67, 0.15);\n",
              "    fill: var(--button-hover-fill-color);\n",
              "  }\n",
              "\n",
              "  .colab-df-quickchart-complete:disabled,\n",
              "  .colab-df-quickchart-complete:disabled:hover {\n",
              "    background-color: var(--disabled-bg-color);\n",
              "    fill: var(--disabled-fill-color);\n",
              "    box-shadow: none;\n",
              "  }\n",
              "\n",
              "  .colab-df-spinner {\n",
              "    border: 2px solid var(--fill-color);\n",
              "    border-color: transparent;\n",
              "    border-bottom-color: var(--fill-color);\n",
              "    animation:\n",
              "      spin 1s steps(1) infinite;\n",
              "  }\n",
              "\n",
              "  @keyframes spin {\n",
              "    0% {\n",
              "      border-color: transparent;\n",
              "      border-bottom-color: var(--fill-color);\n",
              "      border-left-color: var(--fill-color);\n",
              "    }\n",
              "    20% {\n",
              "      border-color: transparent;\n",
              "      border-left-color: var(--fill-color);\n",
              "      border-top-color: var(--fill-color);\n",
              "    }\n",
              "    30% {\n",
              "      border-color: transparent;\n",
              "      border-left-color: var(--fill-color);\n",
              "      border-top-color: var(--fill-color);\n",
              "      border-right-color: var(--fill-color);\n",
              "    }\n",
              "    40% {\n",
              "      border-color: transparent;\n",
              "      border-right-color: var(--fill-color);\n",
              "      border-top-color: var(--fill-color);\n",
              "    }\n",
              "    60% {\n",
              "      border-color: transparent;\n",
              "      border-right-color: var(--fill-color);\n",
              "    }\n",
              "    80% {\n",
              "      border-color: transparent;\n",
              "      border-right-color: var(--fill-color);\n",
              "      border-bottom-color: var(--fill-color);\n",
              "    }\n",
              "    90% {\n",
              "      border-color: transparent;\n",
              "      border-bottom-color: var(--fill-color);\n",
              "    }\n",
              "  }\n",
              "</style>\n",
              "\n",
              "  <script>\n",
              "    async function quickchart(key) {\n",
              "      const quickchartButtonEl =\n",
              "        document.querySelector('#' + key + ' button');\n",
              "      quickchartButtonEl.disabled = true;  // To prevent multiple clicks.\n",
              "      quickchartButtonEl.classList.add('colab-df-spinner');\n",
              "      try {\n",
              "        const charts = await google.colab.kernel.invokeFunction(\n",
              "            'suggestCharts', [key], {});\n",
              "      } catch (error) {\n",
              "        console.error('Error during call to suggestCharts:', error);\n",
              "      }\n",
              "      quickchartButtonEl.classList.remove('colab-df-spinner');\n",
              "      quickchartButtonEl.classList.add('colab-df-quickchart-complete');\n",
              "    }\n",
              "    (() => {\n",
              "      let quickchartButtonEl =\n",
              "        document.querySelector('#df-2683a6c0-193c-4690-857a-438000bbebc1 button');\n",
              "      quickchartButtonEl.style.display =\n",
              "        google.colab.kernel.accessAllowed ? 'block' : 'none';\n",
              "    })();\n",
              "  </script>\n",
              "</div>\n",
              "    </div>\n",
              "  </div>\n"
            ]
          },
          "metadata": {},
          "execution_count": 13
        },
        {
          "output_type": "stream",
          "name": "stdout",
          "text": [
            "time: 831 ms (started: 2023-09-13 00:08:42 +00:00)\n"
          ]
        }
      ]
    },
    {
      "cell_type": "markdown",
      "source": [
        "# Data Cleaning\n",
        "- Using regex expressions to match and replace the below with with empty strings\n",
        "    - emails\n",
        "    - URLs\n",
        "    - HTML tags\n",
        "    - punctautions\n",
        "    - extra spaces\n",
        "    - non-alphabetical characters\n",
        "- We use contractions to expand abbr like \"I'll\" to \"I will\"\n",
        "\n",
        "We vectorize the clean_text function for better performance"
      ],
      "metadata": {
        "id": "Q1Sh_WQC_02d"
      }
    },
    {
      "cell_type": "code",
      "source": [
        "def unicode_to_ascii(s):\n",
        "  return ''.join(c for c in unicodedata.normalize('NFD', s)\n",
        "      if unicodedata.category(c) != 'Mn')\n",
        "\n",
        "def expand_contractions(text):\n",
        "    return contractions.fix(text)\n",
        "\n",
        "def clean_text(text):\n",
        "    text = unicode_to_ascii(text.lower().strip())\n",
        "\n",
        "    # replacing email addresses with empty string\n",
        "    text = re.sub(\n",
        "        r\"[a-zA-Z0-9_\\-\\.]+@[a-zA-Z0-9_\\-\\.]+\\.[a-zA-Z]{2,5}\", \" \", text\n",
        "    )\n",
        "\n",
        "    # replacing urls with empty string\n",
        "    text = re.sub(\n",
        "        r\"\\bhttps?:\\/\\/\\S+|www\\.\\S+\", \" \", text\n",
        "    )\n",
        "\n",
        "    # Remove HTML tags with empty string\n",
        "    text = re.sub(r\"<.*?>\", \"\", text)\n",
        "\n",
        "    # Expand contraction for eg., wouldn't => would not\n",
        "    text = expand_contractions(text)\n",
        "\n",
        "    # creating a space between a word and the punctuation following it\n",
        "    text = re.sub(r\"([?.!,¿])\", r\" \\1 \", text)\n",
        "    text = re.sub(r'[\" \"]+', \" \", text)\n",
        "\n",
        "    # removes all non-alphabetical characters\n",
        "    text = re.sub(r\"[^a-zA-Z\\s]+\", \"\", text)\n",
        "\n",
        "    # remove extra spaces\n",
        "    text = re.sub(\" +\", \" \", text)\n",
        "\n",
        "    text = text.strip()\n",
        "    return text\n",
        "\n",
        "clean_text_vect = np.vectorize(clean_text)"
      ],
      "metadata": {
        "colab": {
          "base_uri": "https://localhost:8080/",
          "height": 0
        },
        "id": "GUN3Fdvyi1bZ",
        "outputId": "5192d83d-6559-4ad8-ef70-c45fbd5e205a"
      },
      "execution_count": 14,
      "outputs": [
        {
          "output_type": "stream",
          "name": "stdout",
          "text": [
            "time: 4.91 ms (started: 2023-09-13 00:08:43 +00:00)\n"
          ]
        }
      ]
    },
    {
      "cell_type": "code",
      "source": [
        "# Calculate average length of reviews before cleaning\n",
        "avg_len_before_clean = balanced_df[\"review_body\"].apply(len).mean()\n",
        "\n",
        "balanced_df[\"review_body\"] = balanced_df[\"review_body\"].apply(clean_text_vect)\n",
        "\n",
        "# Calculate average length of reviews after cleaning\n",
        "avg_len_after_clean = balanced_df[\"review_body\"].apply(len).mean()\n",
        "\n",
        "print(f'Avg. Length of Reviews Before Cleaning: {avg_len_before_clean:.2f} characters')\n",
        "print(f'Avg. Length of Reviews After Cleaning: {avg_len_after_clean:.2f} characters')"
      ],
      "metadata": {
        "colab": {
          "base_uri": "https://localhost:8080/",
          "height": 0
        },
        "id": "MsnmN9wGvj8R",
        "outputId": "1f5a26d7-cb3d-4aaf-b5a5-9b62d559c0d7"
      },
      "execution_count": 15,
      "outputs": [
        {
          "output_type": "stream",
          "name": "stdout",
          "text": [
            "Avg. Length of Reviews Before Cleaning: 314.91 characters\n",
            "Avg. Length of Reviews After Cleaning: 299.72 characters\n",
            "time: 52.3 s (started: 2023-09-13 00:08:43 +00:00)\n"
          ]
        }
      ]
    },
    {
      "cell_type": "markdown",
      "source": [
        "# Pre-processing\n",
        "\n",
        "- Remove the stopwords\n",
        "    - Do not exclude negative stopwords\n",
        "- Lemmatize words after tokenization\n",
        "\n",
        "Vectorize the preprocess_text function for better performance"
      ],
      "metadata": {
        "id": "JB3yNEJ4_3on"
      }
    },
    {
      "cell_type": "code",
      "source": [
        "# Stopword list\n",
        "og_stopwords = set(stopwords.words('english'))\n",
        "# Define a list of negative words to remove\n",
        "neg_words = ['no', 'not', 'nor', 'neither', 'none', 'never', 'nobody', 'nowhere']\n",
        "custom_stopwords = [word for word in og_stopwords if word not in neg_words]\n",
        "\n",
        "pattern = re.compile(r'\\b('+r'|'.join(custom_stopwords)+r')\\b\\s*')\n",
        "\n",
        "def lemmatize_text(text):\n",
        "    lemmatizer = WordNetLemmatizer()\n",
        "    words = word_tokenize(text)\n",
        "    lemmatized_words = [lemmatizer.lemmatize(word) for word in words]\n",
        "    return ' '.join(lemmatized_words)\n",
        "\n",
        "def preprocess_text(text):\n",
        "    # replacing all the stopwords\n",
        "    text = pattern.sub('',text)\n",
        "    text = lemmatize_text(text)\n",
        "    return text\n",
        "\n",
        "preprocess_text_vect = np.vectorize(preprocess_text)"
      ],
      "metadata": {
        "colab": {
          "base_uri": "https://localhost:8080/",
          "height": 0
        },
        "id": "6sRxkdk9tTIO",
        "outputId": "38ed75c1-c29e-4fe0-bb05-802e3b236907"
      },
      "execution_count": 16,
      "outputs": [
        {
          "output_type": "stream",
          "name": "stdout",
          "text": [
            "time: 26 ms (started: 2023-09-13 00:10:17 +00:00)\n"
          ]
        }
      ]
    },
    {
      "cell_type": "code",
      "source": [
        "# Calculate average length of reviews before cleaning (combined)\n",
        "avg_len_before_preprocess = avg_len_after_clean\n",
        "\n",
        "balanced_df[\"review_body\"] = balanced_df[\"review_body\"].apply(preprocess_text_vect)\n",
        "\n",
        "# Calculate average length of reviews after cleaning (combined)\n",
        "avg_len_after_preprocess = balanced_df[\"review_body\"].apply(len).mean()\n",
        "\n",
        "print(f'Avg. Length of Reviews Before Preprocessing: {avg_len_before_preprocess:.2f} characters')\n",
        "print(f'Avg. Length of Reviews After Preprocessing: {avg_len_after_preprocess:.2f} characters')"
      ],
      "metadata": {
        "colab": {
          "base_uri": "https://localhost:8080/",
          "height": 0
        },
        "id": "toc_UbvixjUM",
        "outputId": "f84614da-de12-4e0d-9192-aa890f523499"
      },
      "execution_count": 17,
      "outputs": [
        {
          "output_type": "stream",
          "name": "stdout",
          "text": [
            "Avg. Length of Reviews Before Preprocessing: 299.72 characters\n",
            "Avg. Length of Reviews After Preprocessing: 189.58 characters\n",
            "time: 1min 54s (started: 2023-09-13 00:10:21 +00:00)\n"
          ]
        }
      ]
    },
    {
      "cell_type": "markdown",
      "source": [
        "### Train and Test Split"
      ],
      "metadata": {
        "id": "VmamXshzsJSj"
      }
    },
    {
      "cell_type": "code",
      "source": [
        "X_train, X_test, y_train, y_test = train_test_split(\n",
        "    balanced_df['review_body'],\n",
        "    balanced_df['sentiment'],\n",
        "    test_size=Config.TEST_SPLIT,\n",
        "    random_state=Config.RANDOM_STATE\n",
        ")"
      ],
      "metadata": {
        "colab": {
          "base_uri": "https://localhost:8080/",
          "height": 0
        },
        "id": "ZGjLAQInsOEU",
        "outputId": "50e35f88-3fad-42ce-f1e0-d25ae5a8172f"
      },
      "execution_count": 18,
      "outputs": [
        {
          "output_type": "stream",
          "name": "stdout",
          "text": [
            "time: 34.1 ms (started: 2023-09-13 00:12:20 +00:00)\n"
          ]
        }
      ]
    },
    {
      "cell_type": "markdown",
      "source": [
        "# Feature Extraction"
      ],
      "metadata": {
        "id": "EnpWQAJq_8zO"
      }
    },
    {
      "cell_type": "markdown",
      "source": [
        "## TF-IDF"
      ],
      "metadata": {
        "id": "lOXxy-sXAX8m"
      }
    },
    {
      "cell_type": "code",
      "source": [
        "tfidf_vectorizer = TfidfVectorizer(max_features=Config.NUM_TFIDF_FEATURES)\n",
        "X_train_tfidf = tfidf_vectorizer.fit_transform(X_train)\n",
        "X_test_tfidf = tfidf_vectorizer.transform(X_test)"
      ],
      "metadata": {
        "colab": {
          "base_uri": "https://localhost:8080/",
          "height": 0
        },
        "id": "dJx1JExDJy8F",
        "outputId": "20e20054-e9d0-4ea2-9208-4053170ea9f2"
      },
      "execution_count": 19,
      "outputs": [
        {
          "output_type": "stream",
          "name": "stdout",
          "text": [
            "time: 3.07 s (started: 2023-09-13 00:12:22 +00:00)\n"
          ]
        }
      ]
    },
    {
      "cell_type": "markdown",
      "source": [
        "## Bag of words"
      ],
      "metadata": {
        "id": "X2VXSIhDAa5q"
      }
    },
    {
      "cell_type": "code",
      "source": [
        "count_vectorizer = CountVectorizer(max_features=Config.NUM_BOW_FEATURES)\n",
        "X_train_bow = count_vectorizer.fit_transform(X_train)\n",
        "X_test_bow = count_vectorizer.transform(X_test)"
      ],
      "metadata": {
        "colab": {
          "base_uri": "https://localhost:8080/",
          "height": 0
        },
        "id": "bD2DJ6ftJ9gh",
        "outputId": "dc1530de-8314-4c30-a46e-1df564a7f5dd"
      },
      "execution_count": 20,
      "outputs": [
        {
          "output_type": "stream",
          "name": "stdout",
          "text": [
            "time: 4.21 s (started: 2023-09-13 00:12:25 +00:00)\n"
          ]
        }
      ]
    },
    {
      "cell_type": "markdown",
      "source": [
        "# ML Modeling"
      ],
      "metadata": {
        "id": "MPIl93_mADkt"
      }
    },
    {
      "cell_type": "code",
      "source": [
        "def evaluate_model(model, X_test, y_test):\n",
        "    # Predict on the test set\n",
        "    y_pred = model.predict(X_test)\n",
        "\n",
        "    # Calculate evaluation metrics\n",
        "    precision = precision_score(y_test, y_pred, average='binary')\n",
        "    recall = recall_score(y_test, y_pred, average='binary')\n",
        "    f1 = f1_score(y_test, y_pred, average='binary')\n",
        "\n",
        "    return precision, recall, f1"
      ],
      "metadata": {
        "colab": {
          "base_uri": "https://localhost:8080/",
          "height": 0
        },
        "id": "OYjL5b6FRvHE",
        "outputId": "3d6d3428-af3e-4654-de62-7a234e5a82a6"
      },
      "execution_count": 21,
      "outputs": [
        {
          "output_type": "stream",
          "name": "stdout",
          "text": [
            "time: 828 µs (started: 2023-09-13 00:12:29 +00:00)\n"
          ]
        }
      ]
    },
    {
      "cell_type": "markdown",
      "source": [
        "## Perceptron Using Both Features\n",
        "Performed Grid search changing hyperparameters\n",
        "- `max_iter` - number of epochs\n",
        "- `penalty` - regularization function\n",
        "- `tol` - loss to stop the iteration"
      ],
      "metadata": {
        "id": "7_WcbM6mAdwT"
      }
    },
    {
      "cell_type": "code",
      "source": [
        "# Define the parameter grid to search\n",
        "param_grid = {\n",
        "    'max_iter': [1000, 2000, 4000, 8000],\n",
        "    'tol': [1e-3, 1e-4, 1e-5],\n",
        "    'penalty': ['l2','l1','elasticnet']\n",
        "}\n",
        "\n",
        "# Initialize Perceptron model\n",
        "perceptron = Perceptron()\n",
        "\n",
        "# Grid search for BoW features\n",
        "grid_search_bow = GridSearchCV(\n",
        "    estimator=perceptron,\n",
        "    param_grid=param_grid,\n",
        "    scoring='f1',\n",
        "    cv=3  # Number of cross-validation folds\n",
        ")\n",
        "\n",
        "grid_search_bow.fit(X_train_bow, y_train)\n",
        "\n",
        "# Get the best parameters and model for BoW\n",
        "best_params_bow = grid_search_bow.best_params_\n",
        "best_model_bow = grid_search_bow.best_estimator_\n",
        "\n",
        "# Evaluate the best model for BoW\n",
        "precision_perceptron_bow, recall_perceptron_bow, f1_perceptron_bow = evaluate_model(best_model_bow, X_test_bow, y_test)\n",
        "\n",
        "# Print the results for BoW\n",
        "print(f'Best Parameters (BoW): {best_params_bow}')\n",
        "print(f'Precision Recall F1 (Perceptron, BoW): {precision_perceptron_bow:.4f} {recall_perceptron_bow:.4f} {f1_perceptron_bow:.4f}')"
      ],
      "metadata": {
        "colab": {
          "base_uri": "https://localhost:8080/",
          "height": 0
        },
        "id": "QmiZ6RIqpcPh",
        "outputId": "ef66b2e4-4f5c-4cc6-cf58-6b341f5b5922"
      },
      "execution_count": 22,
      "outputs": [
        {
          "output_type": "stream",
          "name": "stdout",
          "text": [
            "Best Parameters (BoW): {'max_iter': 1000, 'penalty': 'l1', 'tol': 0.001}\n",
            "Precision Recall F1 (Perceptron, BoW): 0.8295 0.8024 0.8157\n",
            "time: 1min 4s (started: 2023-09-13 00:12:55 +00:00)\n"
          ]
        }
      ]
    },
    {
      "cell_type": "code",
      "source": [
        "# Grid search for TF-IDF features\n",
        "grid_search_tfidf = GridSearchCV(\n",
        "    estimator=perceptron,\n",
        "    param_grid=param_grid,\n",
        "    scoring='f1',\n",
        "    cv=3  # Number of cross-validation folds\n",
        ")\n",
        "\n",
        "grid_search_tfidf.fit(X_train_tfidf, y_train)\n",
        "\n",
        "# Get the best parameters and model for TF-IDF\n",
        "best_params_tfidf = grid_search_tfidf.best_params_\n",
        "best_model_tfidf = grid_search_tfidf.best_estimator_\n",
        "\n",
        "# Evaluate the best model for TF-IDF\n",
        "precision_perceptron_tfidf, recall_perceptron_tfidf, f1_perceptron_tfidf = evaluate_model(best_model_tfidf, X_test_tfidf, y_test)\n",
        "\n",
        "# Print the results for TF-IDF\n",
        "print(f'Best Parameters (TF-IDF): {best_params_tfidf}')\n",
        "print(f'Precision Recall F1 (Perceptron, TF-IDF): {precision_perceptron_tfidf:.4f} {recall_perceptron_tfidf:.4f} {f1_perceptron_tfidf:.4f}')"
      ],
      "metadata": {
        "colab": {
          "base_uri": "https://localhost:8080/",
          "height": 0
        },
        "id": "39zPjoRxptBm",
        "outputId": "967bc91d-f9a0-40fe-b56b-b5cc30aadd84"
      },
      "execution_count": 23,
      "outputs": [
        {
          "output_type": "stream",
          "name": "stdout",
          "text": [
            "Best Parameters (TF-IDF): {'max_iter': 1000, 'penalty': 'elasticnet', 'tol': 0.001}\n",
            "Precision Recall F1 (Perceptron, TF-IDF): 0.8250 0.7294 0.7742\n",
            "time: 26.2 s (started: 2023-09-13 00:14:00 +00:00)\n"
          ]
        }
      ]
    },
    {
      "cell_type": "code",
      "source": [
        "def train_evaluate_perceptron(X_train, y_train, X_test, y_test):\n",
        "    # Initialize Perceptron model\n",
        "    perceptron = Perceptron(max_iter=4000)\n",
        "\n",
        "    # Train the model\n",
        "    perceptron.fit(X_train, y_train)\n",
        "\n",
        "    # Evaluate model\n",
        "    precision, recall, f1 = evaluate_model(perceptron, X_test, y_test)\n",
        "    return precision, recall, f1\n",
        "\n",
        "\n",
        "# Train and evaluate Perceptron model using BoW features\n",
        "precision_perceptron_bow, recall_perceptron_bow, f1_perceptron_bow = train_evaluate_perceptron(X_train_bow, y_train, X_test_bow, y_test)\n",
        "\n",
        "# Train and evaluate Perceptron model using TF-IDF features\n",
        "precision_perceptron_tfidf, recall_perceptron_tfidf, f1_perceptron_tfidf = train_evaluate_perceptron(X_train_tfidf, y_train, X_test_tfidf, y_test)\n",
        "\n",
        "# Print the results\n",
        "print(f'Precision Recall F1 (BoW): {precision_perceptron_bow:.4f} {recall_perceptron_bow:.4f} {f1_perceptron_bow:.4f}')\n",
        "print(f'Precision Recall F1 (TF-IDF): {precision_perceptron_tfidf:.4f} {recall_perceptron_tfidf:.4f} {f1_perceptron_tfidf:.4f}')"
      ],
      "metadata": {
        "colab": {
          "base_uri": "https://localhost:8080/",
          "height": 0
        },
        "id": "5VTf4Mk_KlUg",
        "outputId": "1d1414ce-35c2-431a-aaec-894abe48cfe5"
      },
      "execution_count": 24,
      "outputs": [
        {
          "output_type": "stream",
          "name": "stdout",
          "text": [
            "Precision Recall F1 (BoW): 0.8354 0.7942 0.8143\n",
            "Precision Recall F1 (TF-IDF): 0.7907 0.8249 0.8075\n",
            "time: 651 ms (started: 2023-09-13 00:14:26 +00:00)\n"
          ]
        }
      ]
    },
    {
      "cell_type": "markdown",
      "source": [
        "## SVM Using Both Features"
      ],
      "metadata": {
        "id": "izS1D_v3AgKu"
      }
    },
    {
      "cell_type": "code",
      "source": [
        "def train_evaluate_svm(X_train, y_train, X_test, y_test):\n",
        "    # Initialize SVM model\n",
        "    svm = LinearSVC(max_iter=2000)\n",
        "\n",
        "    # Train the model\n",
        "    svm.fit(X_train, y_train)\n",
        "\n",
        "    # Evaluate model\n",
        "    precision, recall, f1 = evaluate_model(svm, X_test, y_test)\n",
        "    return precision, recall, f1\n",
        "\n",
        "# Train and evaluate SVM model using BoW features\n",
        "precision_svm_bow, recall_svm_bow, f1_svm_bow = train_evaluate_svm(X_train_bow, y_train, X_test_bow, y_test)\n",
        "\n",
        "# Train and evaluate SVM model using TF-IDF features\n",
        "precision_svm_tfidf, recall_svm_tfidf, f1_svm_tfidf = train_evaluate_svm(X_train_tfidf, y_train, X_test_tfidf, y_test)\n",
        "\n",
        "# Print the results\n",
        "print(f'Precision Recall F1 (SVM, BoW): {precision_svm_bow:.4f} {recall_svm_bow:.4f} {f1_svm_bow:.4f}')\n",
        "print(f'Precision Recall F1 (SVM, TF-IDF): {precision_svm_tfidf:.4f} {recall_svm_tfidf:.4f} {f1_svm_tfidf:.4f}')"
      ],
      "metadata": {
        "colab": {
          "base_uri": "https://localhost:8080/",
          "height": 0
        },
        "id": "RIlCoJHHT5XT",
        "outputId": "3355ca67-3939-4983-ac07-e6c7e8cd49dd"
      },
      "execution_count": 25,
      "outputs": [
        {
          "output_type": "stream",
          "name": "stdout",
          "text": [
            "Precision Recall F1 (SVM, BoW): 0.8684 0.8340 0.8509\n",
            "Precision Recall F1 (SVM, TF-IDF): 0.8585 0.8604 0.8594\n",
            "time: 45.9 s (started: 2023-09-13 00:14:27 +00:00)\n"
          ]
        }
      ]
    },
    {
      "cell_type": "markdown",
      "source": [
        "## Logistic Regression Using Both Features"
      ],
      "metadata": {
        "id": "SJmEj5uZAjo6"
      }
    },
    {
      "cell_type": "code",
      "source": [
        "def train_evaluate_logistic_regression(X_train, y_train, X_test, y_test):\n",
        "    # Initialize Logistic Regression model\n",
        "    log_reg = LogisticRegression(max_iter=2000)\n",
        "\n",
        "    # Train the model\n",
        "    log_reg.fit(X_train, y_train)\n",
        "\n",
        "    # Evaluate model\n",
        "    precision, recall, f1 = evaluate_model(log_reg, X_test, y_test)\n",
        "\n",
        "    return precision, recall, f1\n",
        "\n",
        "# Train and evaluate Logistic Regression model using BoW features\n",
        "precision_lr_bow, recall_lr_bow, f1_lr_bow = train_evaluate_logistic_regression(X_train_bow, y_train, X_test_bow, y_test)\n",
        "\n",
        "# Train and evaluate Logistic Regression model using TF-IDF features\n",
        "precision_lr_tfidf, recall_lr_tfidf, f1_lr_tfidf = train_evaluate_logistic_regression(X_train_tfidf, y_train, X_test_tfidf, y_test)\n",
        "\n",
        "# Print the results\n",
        "print(f'Precision Recall F1 (Logistic Regression, BoW): {precision_lr_bow:.4f} {recall_lr_bow:.4f} {f1_lr_bow:.4f}')\n",
        "print(f'Precision Recall F1 (Logistic Regression, TF-IDF): {precision_lr_tfidf:.4f} {recall_lr_tfidf:.4f} {f1_lr_tfidf:.4f}')"
      ],
      "metadata": {
        "colab": {
          "base_uri": "https://localhost:8080/",
          "height": 0
        },
        "id": "UE_srzJ-VF9h",
        "outputId": "25dbe3b8-a499-4647-bf5c-ec3d91f9f923"
      },
      "execution_count": 26,
      "outputs": [
        {
          "output_type": "stream",
          "name": "stdout",
          "text": [
            "Precision Recall F1 (Logistic Regression, BoW): 0.8710 0.8419 0.8562\n",
            "Precision Recall F1 (Logistic Regression, TF-IDF): 0.8592 0.8680 0.8636\n",
            "time: 7.1 s (started: 2023-09-13 00:15:13 +00:00)\n"
          ]
        }
      ]
    },
    {
      "cell_type": "markdown",
      "source": [
        "## Naive Bayes Using Both Features"
      ],
      "metadata": {
        "id": "CaMHKE74AniD"
      }
    },
    {
      "cell_type": "code",
      "source": [
        "def train_evaluate_naive_bayes(X_train, y_train, X_test, y_test):\n",
        "    # Initialize Naive Bayes model (Multinomial Naive Bayes for text classification)\n",
        "    nb_model = MultinomialNB()\n",
        "\n",
        "    # Train the model\n",
        "    nb_model.fit(X_train, y_train)\n",
        "\n",
        "    # Evaluate model\n",
        "    precision, recall, f1 = evaluate_model(nb_model, X_test, y_test)\n",
        "\n",
        "    return precision, recall, f1\n",
        "\n",
        "# Train and evaluate Naive Bayes model using BoW features\n",
        "precision_nb_bow, recall_nb_bow, f1_nb_bow = train_evaluate_naive_bayes(X_train_bow, y_train, X_test_bow, y_test)\n",
        "\n",
        "# Train and evaluate Naive Bayes model using TF-IDF features\n",
        "precision_nb_tfidf, recall_nb_tfidf, f1_nb_tfidf = train_evaluate_naive_bayes(X_train_tfidf, y_train, X_test_tfidf, y_test)\n",
        "\n",
        "# Print the results\n",
        "print(f'Precision Recall F1 (Naive Bayes, BoW): {precision_nb_bow:.4f} {recall_nb_bow:.4f} {f1_nb_bow:.4f}')\n",
        "print(f'Precision Recall F1 (Naive Bayes, TF-IDF): {precision_nb_tfidf:.4f} {recall_nb_tfidf:.4f} {f1_nb_tfidf:.4f}')"
      ],
      "metadata": {
        "colab": {
          "base_uri": "https://localhost:8080/",
          "height": 0
        },
        "id": "o-Mg7JzAVgP5",
        "outputId": "0578fed0-c33d-4191-8fae-3ffa57233173"
      },
      "execution_count": 27,
      "outputs": [
        {
          "output_type": "stream",
          "name": "stdout",
          "text": [
            "Precision Recall F1 (Naive Bayes, BoW): 0.8486 0.7755 0.8104\n",
            "Precision Recall F1 (Naive Bayes, TF-IDF): 0.8235 0.8302 0.8268\n",
            "time: 129 ms (started: 2023-09-13 00:15:20 +00:00)\n"
          ]
        }
      ]
    },
    {
      "cell_type": "markdown",
      "source": [
        "# Convert to Python File"
      ],
      "metadata": {
        "id": "ovSEpcoOTcDG"
      }
    },
    {
      "cell_type": "code",
      "source": [
        "!python --version"
      ],
      "metadata": {
        "colab": {
          "base_uri": "https://localhost:8080/",
          "height": 0
        },
        "id": "7WCFZoK_0YB4",
        "outputId": "40f83296-55b5-4575-8c68-1abdecfc9cc9"
      },
      "execution_count": 29,
      "outputs": [
        {
          "output_type": "stream",
          "name": "stdout",
          "text": [
            "Python 3.10.12\n",
            "time: 109 ms (started: 2023-09-13 00:18:04 +00:00)\n"
          ]
        }
      ]
    },
    {
      "cell_type": "code",
      "source": [
        "%%writefile HW1-CSCI544.py\n",
        "# Python Version: 3.10.12\n",
        "\n",
        "import re\n",
        "import unicodedata\n",
        "\n",
        "import warnings\n",
        "\n",
        "warnings.filterwarnings(\"ignore\")\n",
        "\n",
        "import numpy as np\n",
        "import pandas as pd\n",
        "\n",
        "import nltk\n",
        "from nltk.corpus import stopwords\n",
        "from nltk.stem import WordNetLemmatizer\n",
        "from nltk.tokenize import word_tokenize\n",
        "\n",
        "nltk.download(\"punkt\", quiet=True)\n",
        "nltk.download(\"wordnet\", quiet=True)\n",
        "nltk.download(\"stopwords\", quiet=True)\n",
        "\n",
        "import contractions\n",
        "\n",
        "from sklearn.model_selection import train_test_split\n",
        "from sklearn.feature_extraction.text import TfidfVectorizer, CountVectorizer\n",
        "from sklearn.metrics import precision_score, recall_score, f1_score\n",
        "\n",
        "from sklearn.linear_model import Perceptron, LogisticRegression\n",
        "from sklearn.svm import LinearSVC\n",
        "from sklearn.naive_bayes import MultinomialNB\n",
        "\n",
        "\n",
        "class Config:\n",
        "    RANDOM_STATE = 56\n",
        "    DATA_PATH = \"amazon_reviews_us_Office_Products_v1_00.tsv.gz\"\n",
        "    TEST_SPLIT = 0.2\n",
        "    N_SAMPLES_EACH_CLASS = 50000\n",
        "    NUM_TFIDF_FEATURES = 5000\n",
        "    NUM_BOW_FEATURES = 5000\n",
        "\n",
        "\n",
        "class TextCleaner:\n",
        "    @staticmethod\n",
        "    def unicode_to_ascii(s):\n",
        "        return \"\".join(\n",
        "            c for c in unicodedata.normalize(\"NFD\", s) if unicodedata.category(c) != \"Mn\"\n",
        "        )\n",
        "\n",
        "    @staticmethod\n",
        "    def expand_contractions(text):\n",
        "        return contractions.fix(text)\n",
        "\n",
        "    @staticmethod\n",
        "    def remove_email_addresses(text):\n",
        "        return re.sub(r\"[a-zA-Z0-9_\\-\\.]+@[a-zA-Z0-9_\\-\\.]+\\.[a-zA-Z]{2,5}\", \" \", text)\n",
        "\n",
        "    @staticmethod\n",
        "    def remove_urls(text):\n",
        "        return re.sub(r\"\\bhttps?:\\/\\/\\S+|www\\.\\S+\", \" \", text)\n",
        "\n",
        "    @staticmethod\n",
        "    def remove_html_tags(text):\n",
        "        return re.sub(r\"<.*?>\", \"\", text)\n",
        "\n",
        "    @staticmethod\n",
        "    def clean_text(text):\n",
        "        text = TextCleaner.unicode_to_ascii(text.lower().strip())\n",
        "        # replacing email addresses with empty string\n",
        "        text = TextCleaner.remove_email_addresses(text)\n",
        "        # replacing urls with empty string\n",
        "        text = TextCleaner.remove_urls(text)\n",
        "        # Remove HTML tags\n",
        "        text = TextCleaner.remove_html_tags(text)\n",
        "        # Expand contraction for eg., wouldn't => would not\n",
        "        text = TextCleaner.expand_contractions(text)\n",
        "        # creating a space between a word and the punctuation following it\n",
        "        text = re.sub(r\"([?.!,¿])\", r\" \\1 \", text)\n",
        "        text = re.sub(r'[\" \"]+', \" \", text)\n",
        "        # removes all non-alphabetical characters\n",
        "        text = re.sub(r\"[^a-zA-Z\\s]+\", \"\", text)\n",
        "        # remove extra spaces\n",
        "        text = re.sub(\" +\", \" \", text)\n",
        "        text = text.strip()\n",
        "        return text\n",
        "\n",
        "\n",
        "class TextPreprocessor:\n",
        "    @staticmethod\n",
        "    def get_stopwords_pattern():\n",
        "        # Stopword list\n",
        "        og_stopwords = set(stopwords.words(\"english\"))\n",
        "\n",
        "        # Define a list of negative words to remove\n",
        "        neg_words = [\"no\", \"not\", \"nor\", \"neither\", \"none\", \"never\", \"nobody\", \"nowhere\"]\n",
        "        custom_stopwords = [word for word in og_stopwords if word not in neg_words]\n",
        "        pattern = re.compile(r\"\\b(\" + r\"|\".join(custom_stopwords) + r\")\\b\\s*\")\n",
        "        return pattern\n",
        "\n",
        "    @staticmethod\n",
        "    def lemmatize_text(text):\n",
        "        lemmatizer = WordNetLemmatizer()\n",
        "        words = word_tokenize(text)\n",
        "        lemmatized_words = [lemmatizer.lemmatize(word) for word in words]\n",
        "        return \" \".join(lemmatized_words)\n",
        "\n",
        "    @staticmethod\n",
        "    def preprocess_text(text):\n",
        "        # replacing all the stopwords\n",
        "        text = TextPreprocessor.get_stopwords_pattern().sub(\"\", text)\n",
        "        text = TextPreprocessor.lemmatize_text(text)\n",
        "        return text\n",
        "\n",
        "\n",
        "clean_text_vect = np.vectorize(TextCleaner.clean_text)\n",
        "preprocess_text_vect = np.vectorize(TextPreprocessor.preprocess_text)\n",
        "\n",
        "\n",
        "class DataLoader:\n",
        "    @staticmethod\n",
        "    def load_data(path):\n",
        "        df = pd.read_csv(\n",
        "            path,\n",
        "            sep=\"\\t\",\n",
        "            usecols=[\"review_headline\", \"review_body\", \"star_rating\"],\n",
        "            on_bad_lines=\"skip\",\n",
        "            memory_map=True,\n",
        "        )\n",
        "        return df\n",
        "\n",
        "\n",
        "class DataProcessor:\n",
        "    @staticmethod\n",
        "    def filter_columns(df):\n",
        "        return df.loc[:, [\"review_body\", \"star_rating\"]]\n",
        "\n",
        "    @staticmethod\n",
        "    def convert_star_rating(df):\n",
        "        df[\"star_rating\"] = pd.to_numeric(df[\"star_rating\"], errors=\"coerce\")\n",
        "        df.dropna(subset=[\"star_rating\"], inplace=True)\n",
        "        return df\n",
        "\n",
        "    @staticmethod\n",
        "    def classify_sentiment(df):\n",
        "        df[\"sentiment\"] = df[\"star_rating\"].apply(lambda x: 1 if x <= 3 else 2)\n",
        "        return df\n",
        "\n",
        "    @staticmethod\n",
        "    def sample_data(df, n_samples, random_state):\n",
        "        sampled_df = pd.concat(\n",
        "            [\n",
        "                df.query(\"sentiment==1\").sample(n=n_samples, random_state=random_state),\n",
        "                df.query(\"sentiment==2\").sample(n=n_samples, random_state=random_state),\n",
        "            ],\n",
        "            ignore_index=True,\n",
        "        ).sample(frac=1, random_state=random_state)\n",
        "\n",
        "        sampled_df.drop(columns=[\"star_rating\"], inplace=True)\n",
        "        return sampled_df\n",
        "\n",
        "\n",
        "def clean_and_process_data(path):\n",
        "    df = DataLoader.load_data(path)\n",
        "    df_filtered = DataProcessor.filter_columns(df)\n",
        "    df_filtered = DataProcessor.convert_star_rating(df_filtered)\n",
        "    df_filtered = DataProcessor.classify_sentiment(df_filtered)\n",
        "\n",
        "    balanced_df = DataProcessor.sample_data(\n",
        "        df_filtered, Config.N_SAMPLES_EACH_CLASS, Config.RANDOM_STATE\n",
        "    )\n",
        "\n",
        "    balanced_df[\"review_body\"] = balanced_df[\"review_body\"].astype(str)\n",
        "\n",
        "    # Clean data\n",
        "    avg_len_before_clean = balanced_df[\"review_body\"].apply(len).mean()\n",
        "    balanced_df[\"review_body\"] = balanced_df[\"review_body\"].apply(clean_text_vect)\n",
        "    avg_len_after_clean = balanced_df[\"review_body\"].apply(len).mean()\n",
        "\n",
        "    # Preprocess data\n",
        "    avg_len_before_preprocess = avg_len_after_clean\n",
        "    balanced_df[\"review_body\"] = balanced_df[\"review_body\"].apply(preprocess_text_vect)\n",
        "    avg_len_after_preprocess = balanced_df[\"review_body\"].apply(len).mean()\n",
        "\n",
        "    # Print Results\n",
        "    print(f\"{avg_len_before_clean:.2f}, {avg_len_after_clean:.2f}\")\n",
        "    print(f\"{avg_len_before_preprocess:.2f}, {avg_len_after_preprocess:.2f}\")\n",
        "\n",
        "    return balanced_df\n",
        "\n",
        "\n",
        "def evaluate_model(model, X_test, y_test):\n",
        "    # Predict on the test set\n",
        "    y_pred = model.predict(X_test)\n",
        "\n",
        "    # Calculate evaluation metrics\n",
        "    precision = precision_score(y_test, y_pred, average=\"binary\")\n",
        "    recall = recall_score(y_test, y_pred, average=\"binary\")\n",
        "    f1 = f1_score(y_test, y_pred, average=\"binary\")\n",
        "\n",
        "    return precision, recall, f1\n",
        "\n",
        "\n",
        "def train_evaluate_perceptron(X_train, y_train, X_test, y_test):\n",
        "    # Initialize Perceptron model\n",
        "    perceptron = Perceptron(max_iter=4000)\n",
        "\n",
        "    # Train the model\n",
        "    perceptron.fit(X_train, y_train)\n",
        "\n",
        "    # Evaluate model\n",
        "    precision, recall, f1 = evaluate_model(perceptron, X_test, y_test)\n",
        "    return precision, recall, f1\n",
        "\n",
        "\n",
        "def train_evaluate_svm(X_train, y_train, X_test, y_test):\n",
        "    # Initialize SVM model\n",
        "    svm = LinearSVC(max_iter=2500)\n",
        "\n",
        "    # Train the model\n",
        "    svm.fit(X_train, y_train)\n",
        "\n",
        "    # Evaluate model\n",
        "    precision, recall, f1 = evaluate_model(svm, X_test, y_test)\n",
        "    return precision, recall, f1\n",
        "\n",
        "\n",
        "def train_evaluate_logistic_regression(X_train, y_train, X_test, y_test):\n",
        "    # Initialize Logistic Regression model\n",
        "    log_reg = LogisticRegression(max_iter=4000)\n",
        "\n",
        "    # Train the model\n",
        "    log_reg.fit(X_train, y_train)\n",
        "\n",
        "    # Evaluate model\n",
        "    precision, recall, f1 = evaluate_model(log_reg, X_test, y_test)\n",
        "\n",
        "    return precision, recall, f1\n",
        "\n",
        "\n",
        "def train_evaluate_naive_bayes(X_train, y_train, X_test, y_test):\n",
        "    # Initialize Naive Bayes model (Multinomial Naive Bayes for text classification)\n",
        "    nb_model = MultinomialNB()\n",
        "\n",
        "    # Train the model\n",
        "    nb_model.fit(X_train, y_train)\n",
        "\n",
        "    # Evaluate model\n",
        "    precision, recall, f1 = evaluate_model(nb_model, X_test, y_test)\n",
        "\n",
        "    return precision, recall, f1\n",
        "\n",
        "\n",
        "def main():\n",
        "    balanced_df = clean_and_process_data(Config.DATA_PATH)\n",
        "\n",
        "    # Splitting the reviews dataset\n",
        "    X_train, X_test, y_train, y_test = train_test_split(\n",
        "        balanced_df[\"review_body\"],\n",
        "        balanced_df[\"sentiment\"],\n",
        "        test_size=Config.TEST_SPLIT,\n",
        "        random_state=Config.RANDOM_STATE,\n",
        "    )\n",
        "\n",
        "    # Feature Extraction\n",
        "    tfidf_vectorizer = TfidfVectorizer(max_features=Config.NUM_TFIDF_FEATURES)\n",
        "    X_train_tfidf = tfidf_vectorizer.fit_transform(X_train)\n",
        "    X_test_tfidf = tfidf_vectorizer.transform(X_test)\n",
        "\n",
        "    count_vectorizer = CountVectorizer(max_features=Config.NUM_BOW_FEATURES)\n",
        "    X_train_bow = count_vectorizer.fit_transform(X_train)\n",
        "    X_test_bow = count_vectorizer.transform(X_test)\n",
        "\n",
        "    # Train and evaluate Perceptron model using BoW features\n",
        "    precision_perceptron_bow, recall_perceptron_bow, f1_perceptron_bow = train_evaluate_perceptron(\n",
        "        X_train_bow, y_train, X_test_bow, y_test\n",
        "    )\n",
        "\n",
        "    # Train and evaluate Perceptron model using TF-IDF features\n",
        "    (\n",
        "        precision_perceptron_tfidf,\n",
        "        recall_perceptron_tfidf,\n",
        "        f1_perceptron_tfidf,\n",
        "    ) = train_evaluate_perceptron(X_train_tfidf, y_train, X_test_tfidf, y_test)\n",
        "\n",
        "    # Print the results\n",
        "    print(f\"{precision_perceptron_bow:.4f} {recall_perceptron_bow:.4f} {f1_perceptron_bow:.4f}\")\n",
        "    print(\n",
        "        f\"{precision_perceptron_tfidf:.4f} {recall_perceptron_tfidf:.4f} {f1_perceptron_tfidf:.4f}\"\n",
        "    )\n",
        "\n",
        "    # Train and evaluate SVM model using BoW features\n",
        "    precision_svm_bow, recall_svm_bow, f1_svm_bow = train_evaluate_svm(\n",
        "        X_train_bow, y_train, X_test_bow, y_test\n",
        "    )\n",
        "\n",
        "    # Train and evaluate SVM model using TF-IDF features\n",
        "    precision_svm_tfidf, recall_svm_tfidf, f1_svm_tfidf = train_evaluate_svm(\n",
        "        X_train_tfidf, y_train, X_test_tfidf, y_test\n",
        "    )\n",
        "\n",
        "    # Print the results\n",
        "    print(f\"{precision_svm_bow:.4f} {recall_svm_bow:.4f} {f1_svm_bow:.4f}\")\n",
        "    print(f\"{precision_svm_tfidf:.4f} {recall_svm_tfidf:.4f} {f1_svm_tfidf:.4f}\")\n",
        "\n",
        "    # Train and evaluate Logistic Regression model using BoW features\n",
        "    precision_lr_bow, recall_lr_bow, f1_lr_bow = train_evaluate_logistic_regression(\n",
        "        X_train_bow, y_train, X_test_bow, y_test\n",
        "    )\n",
        "\n",
        "    # Train and evaluate Logistic Regression model using TF-IDF features\n",
        "    precision_lr_tfidf, recall_lr_tfidf, f1_lr_tfidf = train_evaluate_logistic_regression(\n",
        "        X_train_tfidf, y_train, X_test_tfidf, y_test\n",
        "    )\n",
        "\n",
        "    # Print the results\n",
        "    print(f\"{precision_lr_bow:.4f} {recall_lr_bow:.4f} {f1_lr_bow:.4f}\")\n",
        "    print(f\"{precision_lr_tfidf:.4f} {recall_lr_tfidf:.4f} {f1_lr_tfidf:.4f}\")\n",
        "\n",
        "    # Train and evaluate Naive Bayes model using BoW features\n",
        "    precision_nb_bow, recall_nb_bow, f1_nb_bow = train_evaluate_naive_bayes(\n",
        "        X_train_bow, y_train, X_test_bow, y_test\n",
        "    )\n",
        "\n",
        "    # Train and evaluate Naive Bayes model using TF-IDF features\n",
        "    precision_nb_tfidf, recall_nb_tfidf, f1_nb_tfidf = train_evaluate_naive_bayes(\n",
        "        X_train_tfidf, y_train, X_test_tfidf, y_test\n",
        "    )\n",
        "\n",
        "    # Print the results\n",
        "    print(f\"{precision_nb_bow:.4f} {recall_nb_bow:.4f} {f1_nb_bow:.4f}\")\n",
        "    print(f\"{precision_nb_tfidf:.4f} {recall_nb_tfidf:.4f} {f1_nb_tfidf:.4f}\")\n",
        "\n",
        "\n",
        "if __name__ == \"__main__\":\n",
        "    main()\n"
      ],
      "metadata": {
        "colab": {
          "base_uri": "https://localhost:8080/",
          "height": 0
        },
        "id": "TSg_8fyiTfni",
        "outputId": "3bd08390-8282-4ec3-8fa9-0a0b7fd0b6a4"
      },
      "execution_count": 30,
      "outputs": [
        {
          "output_type": "stream",
          "name": "stdout",
          "text": [
            "Overwriting HW1-CSCI544.py\n",
            "time: 15.9 ms (started: 2023-09-13 00:18:13 +00:00)\n"
          ]
        }
      ]
    },
    {
      "cell_type": "code",
      "source": [
        "!python HW1-CSCI544.py"
      ],
      "metadata": {
        "colab": {
          "base_uri": "https://localhost:8080/",
          "height": 0
        },
        "id": "A2yNcL_EyArv",
        "outputId": "df7ac3b7-1282-4f17-c880-bf4e1d56cce3"
      },
      "execution_count": 31,
      "outputs": [
        {
          "output_type": "stream",
          "name": "stdout",
          "text": [
            "314.91, 299.72\n",
            "299.72, 189.58\n",
            "0.8354 0.7942 0.8143\n",
            "0.7907 0.8249 0.8075\n",
            "0.8684 0.8341 0.8509\n",
            "0.8585 0.8604 0.8594\n",
            "0.8710 0.8419 0.8562\n",
            "0.8592 0.8680 0.8636\n",
            "0.8486 0.7755 0.8104\n",
            "0.8235 0.8302 0.8268\n",
            "time: 5min 9s (started: 2023-09-13 00:18:17 +00:00)\n"
          ]
        }
      ]
    },
    {
      "cell_type": "markdown",
      "source": [
        "# THE END"
      ],
      "metadata": {
        "id": "_PVfRip9BlPo"
      }
    }
  ]
}